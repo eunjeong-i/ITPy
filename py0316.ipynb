{
 "cells": [
  {
   "cell_type": "markdown",
   "id": "presidential-wednesday",
   "metadata": {},
   "source": [
    "# 다중 for loop의 예제 : 구구단"
   ]
  },
  {
   "cell_type": "code",
   "execution_count": null,
   "id": "republican-miller",
   "metadata": {},
   "outputs": [],
   "source": []
  },
  {
   "cell_type": "code",
   "execution_count": 88,
   "id": "pharmaceutical-footage",
   "metadata": {},
   "outputs": [
    {
     "name": "stdout",
     "output_type": "stream",
     "text": [
      "  2 *   1 =   2\n",
      "  2 *   2 =   4\n",
      "  2 *   3 =   6\n",
      "  2 *   4 =   8\n",
      "  2 *   5 =  10\n",
      "  2 *   6 =  12\n",
      "  2 *   7 =  14\n",
      "  2 *   8 =  16\n",
      "  2 *   9 =  18\n",
      "\n",
      "  3 *   1 =   3\n",
      "  3 *   2 =   6\n",
      "  3 *   3 =   9\n",
      "  3 *   4 =  12\n",
      "  3 *   5 =  15\n",
      "  3 *   6 =  18\n",
      "  3 *   7 =  21\n",
      "  3 *   8 =  24\n",
      "  3 *   9 =  27\n",
      "\n",
      "  4 *   1 =   4\n",
      "  4 *   2 =   8\n",
      "  4 *   3 =  12\n",
      "  4 *   4 =  16\n",
      "  4 *   5 =  20\n",
      "  4 *   6 =  24\n",
      "  4 *   7 =  28\n",
      "  4 *   8 =  32\n",
      "  4 *   9 =  36\n",
      "\n",
      "  5 *   1 =   5\n",
      "  5 *   2 =  10\n",
      "  5 *   3 =  15\n",
      "  5 *   4 =  20\n",
      "  5 *   5 =  25\n",
      "  5 *   6 =  30\n",
      "  5 *   7 =  35\n",
      "  5 *   8 =  40\n",
      "  5 *   9 =  45\n",
      "\n",
      "  6 *   1 =   6\n",
      "  6 *   2 =  12\n",
      "  6 *   3 =  18\n",
      "  6 *   4 =  24\n",
      "  6 *   5 =  30\n",
      "  6 *   6 =  36\n",
      "  6 *   7 =  42\n",
      "  6 *   8 =  48\n",
      "  6 *   9 =  54\n",
      "\n",
      "  7 *   1 =   7\n",
      "  7 *   2 =  14\n",
      "  7 *   3 =  21\n",
      "  7 *   4 =  28\n",
      "  7 *   5 =  35\n",
      "  7 *   6 =  42\n",
      "  7 *   7 =  49\n",
      "  7 *   8 =  56\n",
      "  7 *   9 =  63\n",
      "\n",
      "  8 *   1 =   8\n",
      "  8 *   2 =  16\n",
      "  8 *   3 =  24\n",
      "  8 *   4 =  32\n",
      "  8 *   5 =  40\n",
      "  8 *   6 =  48\n",
      "  8 *   7 =  56\n",
      "  8 *   8 =  64\n",
      "  8 *   9 =  72\n",
      "\n",
      "  9 *   1 =   9\n",
      "  9 *   2 =  18\n",
      "  9 *   3 =  27\n",
      "  9 *   4 =  36\n",
      "  9 *   5 =  45\n",
      "  9 *   6 =  54\n",
      "  9 *   7 =  63\n",
      "  9 *   8 =  72\n",
      "  9 *   9 =  81\n",
      "\n"
     ]
    }
   ],
   "source": [
    "# 다중 fof loop의 예제 : 구구단\n",
    "for i in range(2, 10):\n",
    "    for j in range(1,10):\n",
    "        print(\"{0:3d} * {1:3d} = {2:3d}\".format(i, j, i*j))\n",
    "    print(\"\")           "
   ]
  },
  {
   "cell_type": "code",
   "execution_count": null,
   "id": "worth-capitol",
   "metadata": {},
   "outputs": [],
   "source": []
  },
  {
   "cell_type": "code",
   "execution_count": 7,
   "id": "alpha-gregory",
   "metadata": {},
   "outputs": [
    {
     "name": "stdout",
     "output_type": "stream",
     "text": [
      "      2단           3단\n",
      " 2 *  1 =  2    3 *  1 =  3  \n",
      " 2 *  2 =  4    3 *  2 =  4  \n",
      " 2 *  3 =  6    3 *  3 =  5  \n",
      " 2 *  4 =  8    3 *  4 =  6  \n",
      " 2 *  5 = 10    3 *  5 =  7  \n",
      " 2 *  6 = 12    3 *  6 =  8  \n",
      " 2 *  7 = 14    3 *  7 =  9  \n",
      " 2 *  8 = 16    3 *  8 = 10  \n",
      " 2 *  9 = 18    3 *  9 = 11  \n",
      "\n",
      "      4단           5단\n",
      " 4 *  1 =  4    5 *  1 =  5  \n",
      " 4 *  2 =  8    5 *  2 =  6  \n",
      " 4 *  3 = 12    5 *  3 =  7  \n",
      " 4 *  4 = 16    5 *  4 =  8  \n",
      " 4 *  5 = 20    5 *  5 =  9  \n",
      " 4 *  6 = 24    5 *  6 = 10  \n",
      " 4 *  7 = 28    5 *  7 = 11  \n",
      " 4 *  8 = 32    5 *  8 = 12  \n",
      " 4 *  9 = 36    5 *  9 = 13  \n",
      "\n",
      "      6단           7단\n",
      " 6 *  1 =  6    7 *  1 =  7  \n",
      " 6 *  2 = 12    7 *  2 =  8  \n",
      " 6 *  3 = 18    7 *  3 =  9  \n",
      " 6 *  4 = 24    7 *  4 = 10  \n",
      " 6 *  5 = 30    7 *  5 = 11  \n",
      " 6 *  6 = 36    7 *  6 = 12  \n",
      " 6 *  7 = 42    7 *  7 = 13  \n",
      " 6 *  8 = 48    7 *  8 = 14  \n",
      " 6 *  9 = 54    7 *  9 = 15  \n",
      "\n",
      "      8단           9단\n",
      " 8 *  1 =  8    9 *  1 =  9  \n",
      " 8 *  2 = 16    9 *  2 = 10  \n",
      " 8 *  3 = 24    9 *  3 = 11  \n",
      " 8 *  4 = 32    9 *  4 = 12  \n",
      " 8 *  5 = 40    9 *  5 = 13  \n",
      " 8 *  6 = 48    9 *  6 = 14  \n",
      " 8 *  7 = 56    9 *  7 = 15  \n",
      " 8 *  8 = 64    9 *  8 = 16  \n",
      " 8 *  9 = 72    9 *  9 = 17  \n",
      "\n"
     ]
    }
   ],
   "source": [
    "# 다중 fof loop의 예제 : 구구단\n",
    "for i in range(2, 10, 2):\n",
    "    print(\"      %d단           %d단\"% (i, i+1))\n",
    "    for j in range(1,10):\n",
    "        print(\"{0:2d} * {1:2d} = {2:2d}   {3:2d} * {4:2d} = {5:2d}  \".format(i, j, i*j, i+1, j, (i+j)))\n",
    "    print(\"\")"
   ]
  },
  {
   "cell_type": "markdown",
   "id": "signal-thriller",
   "metadata": {},
   "source": [
    "# 기본자료구조 / 함수"
   ]
  },
  {
   "cell_type": "markdown",
   "id": "passive-finland",
   "metadata": {},
   "source": [
    "## 파이썬 기본자료구조의 이해와 활용"
   ]
  },
  {
   "cell_type": "code",
   "execution_count": 9,
   "id": "fifth-alberta",
   "metadata": {},
   "outputs": [],
   "source": [
    "# 기본 타입들이 결합된 리스트, 튜플...."
   ]
  },
  {
   "cell_type": "code",
   "execution_count": 15,
   "id": "burning-gender",
   "metadata": {},
   "outputs": [
    {
     "name": "stdout",
     "output_type": "stream",
     "text": [
      "[1, 2, 3]\n"
     ]
    },
    {
     "data": {
      "text/plain": [
       "list"
      ]
     },
     "execution_count": 15,
     "metadata": {},
     "output_type": "execute_result"
    }
   ],
   "source": [
    "# 리스트의 생성 1. [] 사용\n",
    "lst_a = [1, 2,3]\n",
    "print(lst_a)\n",
    "type(lst_a)"
   ]
  },
  {
   "cell_type": "code",
   "execution_count": 23,
   "id": "powered-prisoner",
   "metadata": {},
   "outputs": [
    {
     "name": "stdout",
     "output_type": "stream",
     "text": [
      "[1, 2, 3, 4, 5, 6, 7, 8]\n"
     ]
    },
    {
     "data": {
      "text/plain": [
       "list"
      ]
     },
     "execution_count": 23,
     "metadata": {},
     "output_type": "execute_result"
    }
   ],
   "source": [
    "# 리스트의 생성 2. () 사용\n",
    "lst_b = list(range(1,9))\n",
    "print(lst_b)\n",
    "type(lst_b)"
   ]
  },
  {
   "cell_type": "code",
   "execution_count": null,
   "id": "minimal-medium",
   "metadata": {},
   "outputs": [],
   "source": []
  },
  {
   "cell_type": "code",
   "execution_count": 24,
   "id": "horizontal-hamburg",
   "metadata": {},
   "outputs": [
    {
     "name": "stdout",
     "output_type": "stream",
     "text": [
      "['홍길동', 19, 181.5, True]\n"
     ]
    }
   ],
   "source": [
    "# 리스트에 여러가지 자료형 동시 저장하기\n",
    "\n",
    "person = ['홍길동', 19, 181.5, True]\n",
    "print(person)"
   ]
  },
  {
   "cell_type": "code",
   "execution_count": 31,
   "id": "collective-feeling",
   "metadata": {},
   "outputs": [
    {
     "name": "stdout",
     "output_type": "stream",
     "text": [
      "True\n",
      "True\n",
      "181.5\n",
      "19\n",
      "['홍길동', 19]\n",
      "['홍길동', 181.5]\n",
      "[19, 181.5, True]\n"
     ]
    }
   ],
   "source": [
    "print(person[3])\n",
    "print(person[-1])\n",
    "print(person[-2])\n",
    "print(person[-3])\n",
    "print(person[0:2])\n",
    "print(person[:3:2])\n",
    "print(person[1:])"
   ]
  },
  {
   "cell_type": "code",
   "execution_count": 32,
   "id": "amended-alfred",
   "metadata": {},
   "outputs": [
    {
     "data": {
      "text/plain": [
       "list"
      ]
     },
     "execution_count": 32,
     "metadata": {},
     "output_type": "execute_result"
    }
   ],
   "source": [
    "# 빈 리스트 만들기\n",
    "lst_a = [];type(lst_a)\n",
    "lst_b = list();type(lst_b)"
   ]
  },
  {
   "cell_type": "markdown",
   "id": "roman-expression",
   "metadata": {},
   "source": [
    "# 리스트 관련 함수"
   ]
  },
  {
   "cell_type": "code",
   "execution_count": 33,
   "id": "automatic-sentence",
   "metadata": {},
   "outputs": [],
   "source": [
    "## 리스트 관련 함수\n",
    "# append() : 리스트의 맨 뒤에 항목을 추가한다. 리스트명.append(값)\n",
    "# pop() : 리스트 맨 뒤의 항목을 삭제한다. 리스트명.pop()\n",
    "# sort() : 리스트의 항목을 정렬한다. 리스트명.sort()\n",
    "# reverse() : 리스트 항목의 순서를 역순으로 만든다. 리스트명.reverse()\n",
    "#index() : 지정한 값을 찾아 해당 위치를 반환한다. 리스트명.index(찾을값)\n",
    "# insert() : 지정한 위치에 값을 삽입한다. 리스트명.insert(위치, 값)\n",
    "# remove() : 리스트에서 지정한 값을 삭제한다. 단, 지정한 값이 여러개면 첫 번째 값만 지운다. 리스트명.remove(지울값)\n",
    "# extend() : 리스트 뒤에 리스트를 추가한다. 리스트의 더하기(+) 연산과 기능이 동일한다. 리스트명.extend(추가할리스트)\n",
    "# count() : 리스트에서 해당 값의 개수를 센다. 리스트명채.count(찾을값)\n",
    "# clear() : 리스트의 내용을 모두 지운다. 리스트명.clear()\n",
    "# del() : 리스트에서 해당 위치의 항목을 삭제한다. del(리스트명[위치])\n",
    "# len() : 리스트에 포함된 전체 항목의 개수를 센다. len(리스트명)\n",
    "# copy() : 리스트의 내용을 새로운 리스트에 복사한다. 새리스트=리스트명.copy()\n",
    "# sorted() : 리스트의 항목을 정렬해서 새로운 리스트에 대입한다. 새리스트=sorted(리스트)\n"
   ]
  },
  {
   "cell_type": "code",
   "execution_count": 38,
   "id": "suspended-dublin",
   "metadata": {},
   "outputs": [
    {
     "name": "stdout",
     "output_type": "stream",
     "text": [
      "['한국아이티전문학원259-2800']\n"
     ]
    }
   ],
   "source": [
    "# append() : 리스트의 맨 뒤에 항목을 추가한다. 리스트명.append(값)\n",
    "lst_a.append(\"한국아이티전문학원\"\"259-2800\")\n",
    "print(lst_a)"
   ]
  },
  {
   "cell_type": "code",
   "execution_count": 39,
   "id": "known-pharmaceutical",
   "metadata": {},
   "outputs": [
    {
     "name": "stdout",
     "output_type": "stream",
     "text": [
      "[]\n"
     ]
    }
   ],
   "source": [
    "# pop() : 리스트 맨 뒤의 항목을 삭제한다. 리스트명.pop()\n",
    "lst_a.pop()\n",
    "print(lst_a)"
   ]
  },
  {
   "cell_type": "code",
   "execution_count": 49,
   "id": "lesbian-millennium",
   "metadata": {},
   "outputs": [],
   "source": [
    "lst_a.append(\"가나다\")\n",
    "lst_a.append(\"korea\")"
   ]
  },
  {
   "cell_type": "code",
   "execution_count": null,
   "id": "canadian-maine",
   "metadata": {},
   "outputs": [],
   "source": []
  },
  {
   "cell_type": "markdown",
   "id": "prompt-monday",
   "metadata": {},
   "source": [
    "# 튜플의 생성과 활용"
   ]
  },
  {
   "cell_type": "code",
   "execution_count": 50,
   "id": "recreational-elevation",
   "metadata": {},
   "outputs": [
    {
     "name": "stdout",
     "output_type": "stream",
     "text": [
      "['가나다', 'ABC', '가나다', 'koprea', '가나다', 'koprea', '가나다', 'koprea', '가나다', 'koprea', '가나다', 'korea', '가나다', 'korea']\n"
     ]
    }
   ],
   "source": [
    "lst_a[1]='ABC'\n",
    "print(lst_a)"
   ]
  },
  {
   "cell_type": "code",
   "execution_count": 60,
   "id": "resident-norway",
   "metadata": {},
   "outputs": [
    {
     "name": "stdout",
     "output_type": "stream",
     "text": [
      "(1, 2, 3)\n",
      "('이름', '학번', '학과', '주소')\n"
     ]
    }
   ],
   "source": [
    "# 튜플생성\n",
    "#튜플명 = (값리스트)\n",
    "t1 = (1,2,3)\n",
    "print(t1)\n",
    "t1=(\"이름\", \"학번\", \"학과\", \"주소\")\n",
    "print(t1)"
   ]
  },
  {
   "cell_type": "code",
   "execution_count": 52,
   "id": "satisfied-casino",
   "metadata": {},
   "outputs": [
    {
     "data": {
      "text/plain": [
       "tuple"
      ]
     },
     "execution_count": 52,
     "metadata": {},
     "output_type": "execute_result"
    }
   ],
   "source": [
    "type(t1)"
   ]
  },
  {
   "cell_type": "code",
   "execution_count": 61,
   "id": "invisible-baking",
   "metadata": {},
   "outputs": [
    {
     "name": "stdout",
     "output_type": "stream",
     "text": [
      "('이름',)\n",
      "('이름', '학번')\n",
      "주소\n"
     ]
    }
   ],
   "source": [
    "print(t1[0:1])\n",
    "print(t1[0:2])\n",
    "print(t1[-1])"
   ]
  },
  {
   "cell_type": "code",
   "execution_count": 65,
   "id": "bright-national",
   "metadata": {},
   "outputs": [
    {
     "name": "stdout",
     "output_type": "stream",
     "text": [
      "['이름', '학번', '학과', '주소']\n",
      "(1, 2, 3, 4)\n"
     ]
    }
   ],
   "source": [
    "# 튜플과 리스트의 변환\n",
    "myTuple=(1,2,3)\n",
    "myList=list(myTuple)\n",
    "lst1=list(t1)\n",
    "print(lst1)\n",
    "myList.append(4)\n",
    "myTuple=tuple(myList)\n",
    "print(myTuple)"
   ]
  },
  {
   "cell_type": "code",
   "execution_count": 68,
   "id": "funny-contents",
   "metadata": {},
   "outputs": [],
   "source": [
    "t1 = tuple(lst1)"
   ]
  },
  {
   "cell_type": "code",
   "execution_count": 69,
   "id": "immediate-person",
   "metadata": {},
   "outputs": [
    {
     "name": "stdout",
     "output_type": "stream",
     "text": [
      "['이름', '학번', '학과', '주소']\n"
     ]
    }
   ],
   "source": [
    "print(lst1)"
   ]
  },
  {
   "cell_type": "markdown",
   "id": "through-string",
   "metadata": {},
   "source": [
    "# 딕셔너리의 생성과 활용"
   ]
  },
  {
   "cell_type": "code",
   "execution_count": null,
   "id": "outdoor-legislature",
   "metadata": {},
   "outputs": [],
   "source": []
  },
  {
   "cell_type": "code",
   "execution_count": 76,
   "id": "agreed-interim",
   "metadata": {},
   "outputs": [
    {
     "name": "stdout",
     "output_type": "stream",
     "text": [
      "{'name': '홍길동', 'phone': '010-1234-5678', 'addr': '청주시 상당구'}\n"
     ]
    }
   ],
   "source": [
    "# 중괄호 {}로 묶어 구성, 키Key와 값Value쌍으로 구성\n",
    "#  딕셔너리변수 = {키1:값1, 키2:값2, 키3:값3, ... }\n",
    "\n",
    "# 딕셔너리의 생성\n",
    "dic1 = {'name':'홍길동', 'phone':'010-1234-5678', 'addr':'청주시 상당구'}\n",
    "print(dic1)"
   ]
  },
  {
   "cell_type": "code",
   "execution_count": 79,
   "id": "large-adams",
   "metadata": {},
   "outputs": [
    {
     "name": "stdout",
     "output_type": "stream",
     "text": [
      "홍길동\n",
      "010-1234-5678\n",
      "청주시 상당구\n"
     ]
    }
   ],
   "source": [
    "print(dic1['name'])\n",
    "print(dic1['phone'])\n",
    "print(dic1['addr'])"
   ]
  },
  {
   "cell_type": "code",
   "execution_count": 87,
   "id": "sorted-cambridge",
   "metadata": {},
   "outputs": [
    {
     "name": "stdout",
     "output_type": "stream",
     "text": [
      "010-1234-5678\n"
     ]
    }
   ],
   "source": [
    "\n",
    "# 딕셔너리 관련 함수(연산자)\n",
    "# 딕셔너리.get(키) : 키를 이용, 값에 접근\n",
    "#print(dic1['phone'])\n",
    "print(dic1.get('phone'))\n",
    "# get(키) : 키를 이용해서 값을 얻는다.\n",
    "\n",
    "# 딕셔너리.keys() : 딕셔너리의 키만을 모아 dict_keys 객체를 반환\n",
    "\n",
    "# 딕셔너리.values() : 딕셔너리의 값만을 모아 dict_values 객체를 반환\n",
    "# 딕셔너리.items() : key, value 쌍 얻기\n",
    "# 딕셔너리.clear() : Key:value쌍 모두 지우기\n",
    "# in : 해당 키가 딕셔너리 안에 있는지 조회. ex)'키' in 딕셔너리\n"
   ]
  },
  {
   "cell_type": "code",
   "execution_count": null,
   "id": "prime-prescription",
   "metadata": {},
   "outputs": [],
   "source": [
    "dic1.pop('phone')"
   ]
  },
  {
   "cell_type": "code",
   "execution_count": null,
   "id": "bridal-threat",
   "metadata": {},
   "outputs": [],
   "source": []
  },
  {
   "cell_type": "markdown",
   "id": "adapted-metabolism",
   "metadata": {},
   "source": [
    "# 세트의 생성과 활용"
   ]
  },
  {
   "cell_type": "code",
   "execution_count": 92,
   "id": "chicken-trash",
   "metadata": {},
   "outputs": [
    {
     "name": "stdout",
     "output_type": "stream",
     "text": [
      "{'e', 'l', 'h', 'o'}\n"
     ]
    }
   ],
   "source": [
    "# 집합생성\n",
    "s1 = set('hello') # 집합 자료형은 중복을 허용하지 않으며, 순서가 없다.\n",
    "print(s1)\n"
   ]
  },
  {
   "cell_type": "code",
   "execution_count": 98,
   "id": "meaning-console",
   "metadata": {},
   "outputs": [
    {
     "name": "stdout",
     "output_type": "stream",
     "text": [
      "{4, 5, 6}\n"
     ]
    },
    {
     "data": {
      "text/plain": [
       "{4, 5, 6}"
      ]
     },
     "execution_count": 98,
     "metadata": {},
     "output_type": "execute_result"
    }
   ],
   "source": [
    "# 교집합 / 합집합 / 차집합\n",
    "s1 = set([1,2,3,4,5,6])\n",
    "s2 = set([4,5,6,7,8,9])\n",
    "\n",
    "print(s1 & s2) #s1.intersection(s2) - 교집합\n",
    "# print(s1 & s2) \n",
    "s1.intersection(s2)"
   ]
  },
  {
   "cell_type": "code",
   "execution_count": 99,
   "id": "advised-serial",
   "metadata": {},
   "outputs": [
    {
     "name": "stdout",
     "output_type": "stream",
     "text": [
      "{1, 2, 3, 4, 5, 6, 7, 8, 9}\n"
     ]
    },
    {
     "data": {
      "text/plain": [
       "{1, 2, 3, 4, 5, 6, 7, 8, 9}"
      ]
     },
     "execution_count": 99,
     "metadata": {},
     "output_type": "execute_result"
    }
   ],
   "source": [
    "print(s1 | s2) #s1.union(s2) - 합집합\n",
    "# print(s1 | s2) \n",
    "s1.union(s2)"
   ]
  },
  {
   "cell_type": "code",
   "execution_count": 100,
   "id": "vanilla-evolution",
   "metadata": {},
   "outputs": [
    {
     "name": "stdout",
     "output_type": "stream",
     "text": [
      "{1, 2, 3}\n"
     ]
    },
    {
     "data": {
      "text/plain": [
       "{1, 2, 3}"
      ]
     },
     "execution_count": 100,
     "metadata": {},
     "output_type": "execute_result"
    }
   ],
   "source": [
    "print(s1 - s2) #s1.difference(s2) - 차집합\n",
    "# print(s1 - s2)\n",
    "s1.difference(s2)"
   ]
  },
  {
   "cell_type": "code",
   "execution_count": 107,
   "id": "varied-sword",
   "metadata": {},
   "outputs": [
    {
     "name": "stdout",
     "output_type": "stream",
     "text": [
      "{1, 2, 3, 4, 5}\n"
     ]
    }
   ],
   "source": [
    "s3.add(4)           # 하나의 값을 집합에 추가할 때\n",
    "s3.update([4,5])    # 여러개의 값을 집합에 추가할 때\n",
    "print(s3)"
   ]
  },
  {
   "cell_type": "code",
   "execution_count": 108,
   "id": "caroline-continent",
   "metadata": {},
   "outputs": [
    {
     "data": {
      "text/plain": [
       "set"
      ]
     },
     "execution_count": 108,
     "metadata": {},
     "output_type": "execute_result"
    }
   ],
   "source": [
    "s3 = {1,2,3}\n",
    "type(s3)"
   ]
  },
  {
   "cell_type": "code",
   "execution_count": null,
   "id": "engaged-vinyl",
   "metadata": {},
   "outputs": [],
   "source": [
    "\n"
   ]
  },
  {
   "cell_type": "code",
   "execution_count": null,
   "id": "european-accommodation",
   "metadata": {},
   "outputs": [],
   "source": []
  }
 ],
 "metadata": {
  "kernelspec": {
   "display_name": "Python 3",
   "language": "python",
   "name": "python3"
  },
  "language_info": {
   "codemirror_mode": {
    "name": "ipython",
    "version": 3
   },
   "file_extension": ".py",
   "mimetype": "text/x-python",
   "name": "python",
   "nbconvert_exporter": "python",
   "pygments_lexer": "ipython3",
   "version": "3.9.2"
  }
 },
 "nbformat": 4,
 "nbformat_minor": 5
}
