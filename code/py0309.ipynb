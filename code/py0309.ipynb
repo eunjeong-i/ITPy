{
 "cells": [
  {
   "cell_type": "markdown",
   "id": "chief-catch",
   "metadata": {},
   "source": [
    "# 2일차 수업 : 파이썬의 기본문법"
   ]
  },
  {
   "cell_type": "code",
   "execution_count": null,
   "id": "convertible-seeker",
   "metadata": {},
   "outputs": [],
   "source": []
  },
  {
   "cell_type": "code",
   "execution_count": null,
   "id": "endless-score",
   "metadata": {},
   "outputs": [],
   "source": []
  },
  {
   "cell_type": "code",
   "execution_count": null,
   "id": "disturbed-egypt",
   "metadata": {},
   "outputs": [],
   "source": []
  },
  {
   "cell_type": "markdown",
   "id": "sound-router",
   "metadata": {},
   "source": [
    "### jupyter Notebook 사용법\n",
    "* 셀의 개념 : \n",
    "* code 와 Markdown 모드의변경 \n",
    " · ESC(명령모드상태에서)m를 누르면 Markdown, y를 누르면 code상태로 변경된다.  \n",
    "셀의 실행 : Ctrl + enter - 실행만  \n",
    "shift + enter - 실행 후 아래셀로 이동(없으면 새로 만들고 이동)  \n",
    "Alt + enter - 실행 후 아래셀로 이동 셀의 주가 : a- 기준셀의 위에 b-기준셀의 아래에"
   ]
  },
  {
   "cell_type": "code",
   "execution_count": null,
   "id": "executive-experiment",
   "metadata": {},
   "outputs": [],
   "source": []
  },
  {
   "cell_type": "code",
   "execution_count": null,
   "id": "directed-editing",
   "metadata": {},
   "outputs": [],
   "source": []
  },
  {
   "cell_type": "code",
   "execution_count": 1,
   "id": "jewish-decline",
   "metadata": {},
   "outputs": [
    {
     "name": "stdout",
     "output_type": "stream",
     "text": [
      "Hello\n",
      "Python\n"
     ]
    }
   ],
   "source": [
    "print(\"Hello\")\n",
    "print('Python')"
   ]
  },
  {
   "cell_type": "code",
   "execution_count": null,
   "id": "dominant-chain",
   "metadata": {},
   "outputs": [],
   "source": []
  },
  {
   "cell_type": "markdown",
   "id": "wanted-proposal",
   "metadata": {},
   "source": [
    "# 제목\n",
    "## 제목\n",
    "### 제목\n",
    "#### 제목"
   ]
  },
  {
   "cell_type": "code",
   "execution_count": null,
   "id": "studied-george",
   "metadata": {},
   "outputs": [],
   "source": []
  },
  {
   "cell_type": "markdown",
   "id": "objective-groove",
   "metadata": {},
   "source": [
    "## 1. print()함수의 활용\n",
    "파이썬에서 출력을 위해서는 print()함수를 사용한다\n",
    "```python  \n",
    "print(\"문자열\")  \n",
    "print(수식)  \n",
    "print(숫자값)  \n",
    "\n",
    "아래셀에서 실습을 해보자."
   ]
  },
  {
   "cell_type": "code",
   "execution_count": 2,
   "id": "charming-darwin",
   "metadata": {},
   "outputs": [
    {
     "name": "stdout",
     "output_type": "stream",
     "text": [
      "Hello Python\n"
     ]
    }
   ],
   "source": [
    "# 이 코드는 행 단위의 주석을 설명합니다.\n",
    "print(\"Hello Python\") # 요기도 주석입니다.\n",
    "# print(\"Hello Python\")"
   ]
  },
  {
   "cell_type": "code",
   "execution_count": null,
   "id": "stretch-remainder",
   "metadata": {},
   "outputs": [],
   "source": []
  },
  {
   "cell_type": "code",
   "execution_count": null,
   "id": "fossil-paper",
   "metadata": {},
   "outputs": [],
   "source": []
  },
  {
   "cell_type": "code",
   "execution_count": null,
   "id": "double-asset",
   "metadata": {},
   "outputs": [],
   "source": []
  },
  {
   "cell_type": "code",
   "execution_count": null,
   "id": "color-register",
   "metadata": {},
   "outputs": [],
   "source": []
  },
  {
   "cell_type": "markdown",
   "id": "surprised-wrist",
   "metadata": {},
   "source": []
  }
 ],
 "metadata": {
  "kernelspec": {
   "display_name": "Python 3",
   "language": "python",
   "name": "python3"
  },
  "language_info": {
   "codemirror_mode": {
    "name": "ipython",
    "version": 3
   },
   "file_extension": ".py",
   "mimetype": "text/x-python",
   "name": "python",
   "nbconvert_exporter": "python",
   "pygments_lexer": "ipython3",
   "version": "3.9.2"
  }
 },
 "nbformat": 4,
 "nbformat_minor": 5
}
