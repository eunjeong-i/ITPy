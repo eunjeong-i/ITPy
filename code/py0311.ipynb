{
 "cells": [
  {
   "cell_type": "code",
   "execution_count": 17,
   "id": "stupid-victim",
   "metadata": {},
   "outputs": [
    {
     "name": "stdout",
     "output_type": "stream",
     "text": [
      "5는 10보다 크다\n",
      "***************\n",
      "프로그램이 종료되었습니다.\n"
     ]
    }
   ],
   "source": [
    "# 파이썬에서 들여쓰기(Indentation)는 문법사항\n",
    "# 필요한 곳에서 하지 않으면 오류발생\n",
    "if 5 < 10 : \n",
    "    print(\"5는 10보다 크다\")\n",
    "    print(\"***************\")\n",
    "print(\"프로그램이 종료되었습니다.\")"
   ]
  },
  {
   "cell_type": "code",
   "execution_count": 9,
   "id": "worldwide-representative",
   "metadata": {},
   "outputs": [
    {
     "name": "stdout",
     "output_type": "stream",
     "text": [
      "100\n"
     ]
    }
   ],
   "source": [
    "A = 100\n",
    "print(A)"
   ]
  },
  {
   "cell_type": "code",
   "execution_count": 13,
   "id": "following-transmission",
   "metadata": {},
   "outputs": [
    {
     "name": "stdout",
     "output_type": "stream",
     "text": [
      "14\n"
     ]
    }
   ],
   "source": [
    "# 변수 : 프로그램이 사용할 데이터를 기억하는 저장 공간의 이름\n",
    "birthyear = 2007  # birthYear라는 변수는 2007 값을 저장하고 있고\n",
    "age = 2021 - birthyear\n",
    "# age라는 변수는 2021 - birthYear의 연산결과를 저장한다.\n",
    "print(age)  #age에 저장된 값을 출력한다.\n",
    "# J.N Cell 나누기 : 커서 위치에서 셀을 나누려면 ctol + shift + (-)를 눌러준다."
   ]
  },
  {
   "cell_type": "code",
   "execution_count": 15,
   "id": "sealed-harris",
   "metadata": {},
   "outputs": [],
   "source": [
    "# 타입Type : 숫자(정수형, 실수형), 문자(열), Boolean\n",
    "numberInt = 100 # 정수형int 타입\n",
    "numberFloat = 1.234 #실수형float 타입\n",
    "varChar = 'A' # 문자형str 타입\n",
    "varStr = 'Korea' # 문자열str 타입\n",
    "varBool = True # 부울bool 타입\n"
   ]
  },
  {
   "cell_type": "code",
   "execution_count": 16,
   "id": "surface-michael",
   "metadata": {},
   "outputs": [
    {
     "data": {
      "text/plain": [
       "bool"
      ]
     },
     "execution_count": 16,
     "metadata": {},
     "output_type": "execute_result"
    }
   ],
   "source": [
    "# 파이썬에는 type()함수가 있어서 data type을 확인할 수 있다.\n",
    "type(varBool)"
   ]
  },
  {
   "cell_type": "code",
   "execution_count": null,
   "id": "copyrighted-citizen",
   "metadata": {},
   "outputs": [],
   "source": [
    "    "
   ]
  }
 ],
 "metadata": {
  "kernelspec": {
   "display_name": "Python 3",
   "language": "python",
   "name": "python3"
  },
  "language_info": {
   "codemirror_mode": {
    "name": "ipython",
    "version": 3
   },
   "file_extension": ".py",
   "mimetype": "text/x-python",
   "name": "python",
   "nbconvert_exporter": "python",
   "pygments_lexer": "ipython3",
   "version": "3.9.2"
  }
 },
 "nbformat": 4,
 "nbformat_minor": 5
}
