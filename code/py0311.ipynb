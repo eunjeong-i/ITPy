{
 "cells": [
  {
   "cell_type": "code",
   "execution_count": 17,
   "id": "classical-celtic",
   "metadata": {},
   "outputs": [
    {
     "name": "stdout",
     "output_type": "stream",
     "text": [
      "5는 10보다 크다\n",
      "***************\n",
      "프로그램이 종료되었습니다.\n"
     ]
    }
   ],
   "source": [
    "# 파이썬에서 들여쓰기(Indentation)는 문법사항\n",
    "# 필요한 곳에서 하지 않으면 오류발생\n",
    "if 5 < 10 : \n",
    "    print(\"5는 10보다 크다\")\n",
    "    print(\"***************\")\n",
    "print(\"프로그램이 종료되었습니다.\")"
   ]
  },
  {
   "cell_type": "code",
   "execution_count": 9,
   "id": "metric-belle",
   "metadata": {},
   "outputs": [
    {
     "name": "stdout",
     "output_type": "stream",
     "text": [
      "100\n"
     ]
    }
   ],
   "source": [
    "A = 100\n",
    "print(A)"
   ]
  },
  {
   "cell_type": "code",
   "execution_count": 13,
   "id": "framed-perfume",
   "metadata": {},
   "outputs": [
    {
     "name": "stdout",
     "output_type": "stream",
     "text": [
      "14\n"
     ]
    }
   ],
   "source": [
    "# 변수 : 프로그램이 사용할 데이터를 기억하는 저장 공간의 이름\n",
    "birthyear = 2007  # birthYear라는 변수는 2007 값을 저장하고 있고\n",
    "age = 2021 - birthyear\n",
    "# age라는 변수는 2021 - birthYear의 연산결과를 저장한다.\n",
    "print(age)  #age에 저장된 값을 출력한다.\n",
    "# J.N Cell 나누기 : 커서 위치에서 셀을 나누려면 ctol + shift + (-)를 눌러준다."
   ]
  },
  {
   "cell_type": "code",
   "execution_count": 22,
   "id": "typical-letters",
   "metadata": {},
   "outputs": [],
   "source": [
    "# 타입Type : 숫자(정수형, 실수형), 문자(열), Boolean\n",
    "numberInt = 100 # 정수형int 타입\n",
    "numberFloat = 1.234 #실수형float 타입\n",
    "varChar = 'A' # 문자형str 타입\n",
    "varStr = 'Korea' # 문자열str 타입\n",
    "varBool = True # 부울bool 타입\n"
   ]
  },
  {
   "cell_type": "code",
   "execution_count": 23,
   "id": "quality-milan",
   "metadata": {},
   "outputs": [
    {
     "name": "stdout",
     "output_type": "stream",
     "text": [
      "<class 'int'>\n",
      "True\n"
     ]
    }
   ],
   "source": [
    "# 파이썬에는 type()함수가 있어서 data type을 확인할 수 있다.\n",
    "type(varBool)\n",
    "print(type(numberInt))\n",
    "print(isinstance(numberInt, int))"
   ]
  },
  {
   "cell_type": "code",
   "execution_count": 26,
   "id": "optimum-offer",
   "metadata": {},
   "outputs": [
    {
     "name": "stdout",
     "output_type": "stream",
     "text": [
      "태어난 해를 입력하세요. : 2002\n",
      "19\n"
     ]
    }
   ],
   "source": [
    "# 입력함수 input(\"메시지\")\n",
    "birthYear = int(input(\"태어난 해를 입력하세요. : \"))\n",
    "type(birthYear)\n",
    "age = 2021 - birthYear\n",
    "print(age)"
   ]
  },
  {
   "cell_type": "code",
   "execution_count": 27,
   "id": "executive-action",
   "metadata": {},
   "outputs": [
    {
     "name": "stdout",
     "output_type": "stream",
     "text": [
      "lst :  <class 'int'>\n",
      "2nd :  <class 'float'>\n"
     ]
    }
   ],
   "source": [
    "number1 = 100\n",
    "print(\"lst : \", type(number1))\n",
    "number1 = 3.141592\n",
    "print(\"2nd : \", type(number1))"
   ]
  },
  {
   "cell_type": "code",
   "execution_count": 28,
   "id": "apart-satellite",
   "metadata": {},
   "outputs": [
    {
     "name": "stdout",
     "output_type": "stream",
     "text": [
      "koreaIT\n"
     ]
    }
   ],
   "source": [
    "print(\"korea\" + \"IT\")\n",
    "# 문자열 결합"
   ]
  },
  {
   "cell_type": "code",
   "execution_count": 31,
   "id": "refined-lodging",
   "metadata": {},
   "outputs": [
    {
     "name": "stdout",
     "output_type": "stream",
     "text": [
      "age :  10\n"
     ]
    }
   ],
   "source": [
    "print(\"age : \" , 10)\n",
    "# 문자열, 문자열 결합"
   ]
  },
  {
   "cell_type": "code",
   "execution_count": 32,
   "id": "surrounded-mount",
   "metadata": {},
   "outputs": [
    {
     "name": "stdout",
     "output_type": "stream",
     "text": [
      "===============================================================================\n"
     ]
    }
   ],
   "source": [
    "print(\"=\" * 79)\n",
    "# 문자열 * 숫자"
   ]
  },
  {
   "cell_type": "code",
   "execution_count": 39,
   "id": "international-thesis",
   "metadata": {},
   "outputs": [
    {
     "name": "stdout",
     "output_type": "stream",
     "text": [
      "10\n",
      "age :  10 세\n",
      "age : 10세\n",
      "age : *10*세\n",
      "age : *10*세age : 10세\n"
     ]
    }
   ],
   "source": [
    "print(\"%d\"%10)\n",
    "print(\"age : \", 10, \"세\")\n",
    "print(\"age : \", 10, \"세\", sep=\"\")\n",
    "print(\"age : \", 10, \"세\", sep=\"*\")\n",
    "print(\"age : \", 10, \"세\", sep=\"*\", end=\"\")\n",
    "\n",
    "print(\"age : %d세\"%10)\n",
    "# 포맷팅 출력: % 기호 사용, 변수값 출력 %s : 문자열 타입의 변수 출력"
   ]
  },
  {
   "cell_type": "code",
   "execution_count": 43,
   "id": "limited-hometown",
   "metadata": {},
   "outputs": [
    {
     "name": "stdout",
     "output_type": "stream",
     "text": [
      "10 3.140000 korea\n"
     ]
    }
   ],
   "source": [
    "print(\"%d %f %s\"%(10, 3.14, \"korea\"))\n",
    "# %d : 정수형 타입의 변수 출력\n",
    "# %f : 실수형 타입의 변수 출력\n",
    "# %c : 문자형character\n",
    "# %o : 8진수\n",
    "# %x : 16진수\n",
    "# %% : '%'문자"
   ]
  },
  {
   "cell_type": "code",
   "execution_count": 44,
   "id": "ethical-india",
   "metadata": {},
   "outputs": [
    {
     "name": "stdout",
     "output_type": "stream",
     "text": [
      "첫번째 수 3.140000 두번째 수 10\n"
     ]
    }
   ],
   "source": [
    "# 고급 포맷팅 출력\n",
    "print(\"첫번째 수 {1:f} 두번째 수 {0:d}\".format(10, 3.14))"
   ]
  },
  {
   "cell_type": "code",
   "execution_count": 68,
   "id": "unlikely-inventory",
   "metadata": {},
   "outputs": [
    {
     "name": "stdout",
     "output_type": "stream",
     "text": [
      "1.4285714285714286\n",
      "1\n",
      "10000000\n",
      "True\n",
      "False\n",
      "False\n"
     ]
    }
   ],
   "source": [
    "# 자료형과 연산자\n",
    "# 산술연산자 :  +, -, *, /(나누기), %(나머지), //(몫), **(거듭제곱)\n",
    "# 관계연산자 : , <, >=, <=, ==, !=\n",
    "# 논리연산자 and, or, not\n",
    "# 비트연산자 &, |, ^(배타적or, xor), ~, <<, >>  ㅡㅡㅡㅡ 사물인터넷에서 많이 사용!!!!!\n",
    "\n",
    "num1 = 10\n",
    "num2 = 7\n",
    "print(num1/num2)\n",
    "print(num1//num2)\n",
    "print(num1**num2)\n",
    "print(num1 != num2)\n",
    "print(10 > 20 and 10 < 5)\n",
    "print(not(10 < 20))\n"
   ]
  },
  {
   "cell_type": "code",
   "execution_count": 69,
   "id": "fancy-bradford",
   "metadata": {},
   "outputs": [
    {
     "ename": "SyntaxError",
     "evalue": "invalid syntax (<ipython-input-69-fe08dce2917c>, line 16)",
     "output_type": "error",
     "traceback": [
      "\u001b[1;36m  File \u001b[1;32m\"<ipython-input-69-fe08dce2917c>\"\u001b[1;36m, line \u001b[1;32m16\u001b[0m\n\u001b[1;33m    print(\"8진수 : \", oct(num10))\u001b[0m\n\u001b[1;37m    ^\u001b[0m\n\u001b[1;31mSyntaxError\u001b[0m\u001b[1;31m:\u001b[0m invalid syntax\n"
     ]
    }
   ],
   "source": [
    "# 진수변환\n",
    "# sel = int(input(\"입력 진수(16/10/8/2) : \"))\n",
    "# num=input(\"값 입력 : \")\n",
    "# if sel == 16 :\n",
    "#    num10 = int(num, 16)  \n",
    "# elif sel == 10 :\n",
    "#    num10 = int(num, 10)\n",
    "# elif sel == 8 :\n",
    "#    num10 = int(num, 8)\n",
    "# else :\n",
    "#    num10 = int(num, 2)\n",
    "print(\"16진수 : \",hex(num10))\n",
    "# 0,1,2,3,4,5,6,7,8,9,a,b,c,d,e,f\n",
    "print(\"10진수 : \", (num10)\n",
    "# 0,1,2,3,4,5,6,7,8,9\n",
    "print(\"8진수 : \", oct(num10))\n",
    "# 0,1,2,3,4,5,6,7\n",
    "print(\"2진수 : \", bin(num10))\n",
    "# 0,1"
   ]
  },
  {
   "cell_type": "code",
   "execution_count": 70,
   "id": "forty-burns",
   "metadata": {},
   "outputs": [
    {
     "name": "stdout",
     "output_type": "stream",
     "text": [
      "0b111\n",
      "0o5\n",
      "0x17\n"
     ]
    }
   ],
   "source": [
    "print(bin(7))\n",
    "# 2진수\n",
    "print(oct(5))\n",
    "# 8진수\n",
    "print(hex(23))\n",
    "# 16진수"
   ]
  },
  {
   "cell_type": "code",
   "execution_count": 71,
   "id": "involved-player",
   "metadata": {},
   "outputs": [
    {
     "name": "stdout",
     "output_type": "stream",
     "text": [
      "5\n"
     ]
    }
   ],
   "source": [
    "# print(bin(5))\n",
    "print(5 & 7)"
   ]
  },
  {
   "cell_type": "code",
   "execution_count": null,
   "id": "elder-jesus",
   "metadata": {},
   "outputs": [],
   "source": []
  }
 ],
 "metadata": {
  "kernelspec": {
   "display_name": "Python 3",
   "language": "python",
   "name": "python3"
  },
  "language_info": {
   "codemirror_mode": {
    "name": "ipython",
    "version": 3
   },
   "file_extension": ".py",
   "mimetype": "text/x-python",
   "name": "python",
   "nbconvert_exporter": "python",
   "pygments_lexer": "ipython3",
   "version": "3.9.2"
  }
 },
 "nbformat": 4,
 "nbformat_minor": 5
}
