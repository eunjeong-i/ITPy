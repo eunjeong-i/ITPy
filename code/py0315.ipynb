{
 "cells": [
  {
   "cell_type": "markdown",
   "id": "viral-metabolism",
   "metadata": {},
   "source": [
    "제어문"
   ]
  },
  {
   "cell_type": "markdown",
   "id": "occupied-transfer",
   "metadata": {},
   "source": [
    "# Day04 : 제어문의 활용"
   ]
  },
  {
   "cell_type": "code",
   "execution_count": null,
   "id": "expanded-immigration",
   "metadata": {},
   "outputs": [],
   "source": [
    "## if 조건식 : \n",
    "        실행할 문장"
   ]
  },
  {
   "cell_type": "code",
   "execution_count": 3,
   "id": "attended-viking",
   "metadata": {},
   "outputs": [
    {
     "name": "stdout",
     "output_type": "stream",
     "text": [
      "숫자를 입력하세요.2\n",
      "짝수입니다.\n",
      "프로그램을 종료합니다.\n"
     ]
    }
   ],
   "source": [
    "# 홀수 짝수 판단\n",
    "# 숫자를 2로 나눈 나머지가 0이면 짝수, 아니면 홀수\n",
    "number = int(input(\"숫자를 입력하세요.\"))\n",
    "if (number % 2) == 0 :\n",
    "    print(\"짝수입니다.\")\n",
    "else : \n",
    "    print(\"홀수입니다.\")\n",
    "print(\"프로그램을 종료합니다.\")"
   ]
  },
  {
   "cell_type": "markdown",
   "id": "limited-drunk",
   "metadata": {},
   "source": [
    "## 중첩 if 조건문 사용하기"
   ]
  },
  {
   "cell_type": "code",
   "execution_count": null,
   "id": "committed-worse",
   "metadata": {},
   "outputs": [],
   "source": [
    "# if를 여러번 사용하는 중첩. if 조건문\n",
    "# 성별과 연령을 입력받아 판단하는 프로그램을 작성하시오.\n",
    "gender = input(\"성별을 입력하세요(M:남자/F:여자) : \")\n",
    "age - int(input(\"나이를 입력하세요. : \"))\n",
    "if gender == 'M' or\n",
    "\n",
    "\n",
    "\n",
    "# elif (else + if) : "
   ]
  },
  {
   "cell_type": "code",
   "execution_count": 13,
   "id": "correct-cheat",
   "metadata": {},
   "outputs": [
    {
     "ename": "SyntaxError",
     "evalue": "unmatched ')' (<ipython-input-13-30532e7a6946>, line 10)",
     "output_type": "error",
     "traceback": [
      "\u001b[1;36m  File \u001b[1;32m\"<ipython-input-13-30532e7a6946>\"\u001b[1;36m, line \u001b[1;32m10\u001b[0m\n\u001b[1;33m    korea, mathmatics, society = map(int,input(\"국어, 산수, 사회 3과목 점수 :\").split))\u001b[0m\n\u001b[1;37m                                                                            ^\u001b[0m\n\u001b[1;31mSyntaxError\u001b[0m\u001b[1;31m:\u001b[0m unmatched ')'\n"
     ]
    }
   ],
   "source": [
    "# 국어, 산수, 사회 세 과목의 점수를 입력받아 총점과 평균을 구하고,\n",
    "# 평균이 90점 이상이면 A등급을, 80점이상이면 B등급을, 70점이상이면 C등급을\n",
    "# 그 외, 즉 69이하이면 F등급을 부여하는 프로그램을 작성하시오.\n",
    "\n",
    "# 알고리즘 ===> Pseudo Code 의사코드 ;\n",
    "# 세과목의 점수를 입력받는다.\n",
    "# korea = int( input(\"국어 점수 : \") )\n",
    "# mathmatics = int( input(\"수학 점수 : \") )\n",
    "# society = int( input(\"사회 점수 : \") )\n",
    "korea, mathmatics, society = map(int,input(\"국어, 산수, 사회 3과목 점수 :\").split)) \n",
    "# korea, mathmatics, society = 100, 85, 90\n",
    "# 총점을 구한다.\n",
    "total = korea + mathmatics + society\n",
    "\n",
    "# 평균을 구한다.\n",
    "average = total / 3\n",
    "\n",
    "# 평균이 90이상이면 A라고 한다.\n",
    "if average\n",
    "    grade = >=90\n",
    "\n",
    "# 그게 아니라 80이상이면 B라고 한다.\n",
    "if average\n",
    "    grade = >=80\n",
    "\n",
    "# 그게 아니라 70이상이면 C라고 한다.\n",
    "if average\n",
    "    grade = >=70\n",
    "    \n",
    "# 그게 아니라 60이상이면 F라고 한다.\n",
    "if average\n",
    "    grade = >=60\n",
    "\n",
    "else : \n",
    "    grade = 'C\n",
    "    \n",
    "# 그게 아니라 70이상이면 C라고 한다.\n",
    "else : \n",
    "    grade = 'F'\n",
    "\n",
    "# 그것도 아니면 F라고 한다.\n",
    "print(grade)\n",
    "\n",
    "# 성적을 출력한다.\n",
    "# print(grade)\n",
    "# 총점, 평균, 성적을 출력한다.\n",
    "print(\"총점:{0:5d} 평균:{1:5.1f} 등급:{2:3s} \".format(total, average, grade))"
   ]
  },
  {
   "cell_type": "code",
   "execution_count": 19,
   "id": "wicked-duration",
   "metadata": {},
   "outputs": [
    {
     "name": "stdout",
     "output_type": "stream",
     "text": [
      "탑승자의 나이 : 5\n",
      "버스요금 면제대상입니다.\n"
     ]
    }
   ],
   "source": [
    "# 교통카드 시스템 만들기\n",
    "# 시내버스 요금은 다음과 같다.\n",
    "\n",
    "\n",
    "\n",
    "\n",
    "# 나이를 입력받는다.\n",
    "age = int(input(\"탑승자의 나이 : \"))\n",
    "# 나이가 7세이상이고, 12세 이하라면 :\n",
    "if age >= 7 and age <=12:\n",
    "    busfee = 650 # 버스요금 = 650원\n",
    "    \n",
    "# 그렇지 않고 나이가 13세 이상이고, 18세 이하라면 :\n",
    "elif age >= 13 and age <=18:\n",
    "    busfee = 1050 # 버스요금 = 1,050원\n",
    "    \n",
    "# 그렇지 않고 나이가 19세 이상이면 :\n",
    "elif age >= 19:\n",
    "    busfee = 1250 # 버스요금 = 1,250원\n",
    "else :\n",
    "    print(\"버스요금 면제대상입니다.\")\n",
    "    \n",
    "    "
   ]
  },
  {
   "cell_type": "code",
   "execution_count": null,
   "id": "criminal-certification",
   "metadata": {},
   "outputs": [],
   "source": []
  },
  {
   "cell_type": "code",
   "execution_count": null,
   "id": "convenient-draft",
   "metadata": {},
   "outputs": [],
   "source": []
  },
  {
   "cell_type": "markdown",
   "id": "expressed-bulgaria",
   "metadata": {},
   "source": [
    "# 삼항 연산자를 사용한 if문"
   ]
  },
  {
   "cell_type": "markdown",
   "id": "divided-vertical",
   "metadata": {},
   "source": [
    "# for 반복제어문"
   ]
  },
  {
   "cell_type": "code",
   "execution_count": 24,
   "id": "honest-embassy",
   "metadata": {},
   "outputs": [
    {
     "ename": "SyntaxError",
     "evalue": "invalid syntax (<ipython-input-24-4ae770ea3f73>, line 2)",
     "output_type": "error",
     "traceback": [
      "\u001b[1;36m  File \u001b[1;32m\"<ipython-input-24-4ae770ea3f73>\"\u001b[1;36m, line \u001b[1;32m2\u001b[0m\n\u001b[1;33m    print(\"for문을 공부중입니다.\", \" i값 : \" i)\u001b[0m\n\u001b[1;37m                                    ^\u001b[0m\n\u001b[1;31mSyntaxError\u001b[0m\u001b[1;31m:\u001b[0m invalid syntax\n"
     ]
    }
   ],
   "source": [
    "for i in range(0,11,2):  #[0,1,2]\n",
    "    print(\"for문을 공부중입니다.\", \" i값 : \" i)\n",
    "    \n",
    "#\n",
    "\n"
   ]
  },
  {
   "cell_type": "code",
   "execution_count": 35,
   "id": "intensive-satin",
   "metadata": {},
   "outputs": [
    {
     "name": "stdout",
     "output_type": "stream",
     "text": [
      "1부터 10까지의 합 : 1\n",
      "1부터 10까지의 합 : 3\n",
      "1부터 10까지의 합 : 6\n",
      "1부터 10까지의 합 : 10\n",
      "1부터 10까지의 합 : 15\n",
      "1부터 10까지의 합 : 21\n",
      "1부터 10까지의 합 : 28\n",
      "1부터 10까지의 합 : 36\n",
      "1부터 10까지의 합 : 45\n",
      "1부터 10까지의 합 : 55\n"
     ]
    }
   ],
   "source": [
    "# 1부터 10까지의 합계를 구하는 프로그램을 작성하세요.\n",
    "sum = 0\n",
    "for number in range(1,11):\n",
    "    sum += number\n",
    "# i = 1,2,3,4,5,6,7,8,9,10 // sum = 0  //  복합대입연산자 sum {+=}number  \n",
    "    print(\"1부터 10까지의 합 : %d\" % sum)\n"
   ]
  },
  {
   "cell_type": "code",
   "execution_count": 34,
   "id": "casual-device",
   "metadata": {},
   "outputs": [
    {
     "name": "stdout",
     "output_type": "stream",
     "text": [
      "1부터 10까지의 3의 배수의 합 : 18\n"
     ]
    }
   ],
   "source": [
    "# 1부터 10까지의 숫자 중 3의 배수의 합계를 구하는 프로그램을 작성하세요.\n",
    "sum = 0\n",
    "for number in range(11):\n",
    "    if number % 3 == 0 :\n",
    "        sum += number\n",
    "print(\"1부터 10까지의 3의 배수의 합 : %d\" % sum)"
   ]
  },
  {
   "cell_type": "markdown",
   "id": "finished-function",
   "metadata": {},
   "source": [
    "# 시퀸스 객체로 반복하기"
   ]
  },
  {
   "cell_type": "code",
   "execution_count": 36,
   "id": "mysterious-connection",
   "metadata": {},
   "outputs": [
    {
     "data": {
      "text/plain": [
       "list"
      ]
     },
     "execution_count": 36,
     "metadata": {},
     "output_type": "execute_result"
    }
   ],
   "source": [
    "a = [10, 20, 30, 40, 50] # 리스트의 생성\n",
    "type(a)"
   ]
  },
  {
   "cell_type": "code",
   "execution_count": 37,
   "id": "numeric-nursery",
   "metadata": {},
   "outputs": [
    {
     "name": "stdout",
     "output_type": "stream",
     "text": [
      "10\n",
      "20\n",
      "30\n",
      "40\n",
      "50\n"
     ]
    }
   ],
   "source": [
    "a = [10, 20, 30, 40, 50] # 리스트의 생성\n",
    "for number in a:\n",
    "    print(number)"
   ]
  },
  {
   "cell_type": "code",
   "execution_count": 39,
   "id": "identical-count",
   "metadata": {},
   "outputs": [
    {
     "name": "stdout",
     "output_type": "stream",
     "text": [
      "10\n",
      "korea\n",
      "30\n",
      "True\n",
      "50\n"
     ]
    }
   ],
   "source": [
    "a = [10, \"korea\", 30, True, 50] # tuple의 생성\n",
    "for datavalue in a:\n",
    "    print(datavalue)"
   ]
  },
  {
   "cell_type": "code",
   "execution_count": 40,
   "id": "beneficial-exposure",
   "metadata": {},
   "outputs": [
    {
     "name": "stdout",
     "output_type": "stream",
     "text": [
      "k\n",
      "o\n",
      "r\n",
      "e\n",
      "a\n"
     ]
    }
   ],
   "source": [
    "a = 'korea'\n",
    "for datavalue in a:\n",
    "    print(datavalue)"
   ]
  },
  {
   "cell_type": "code",
   "execution_count": 41,
   "id": "caroline-sunday",
   "metadata": {},
   "outputs": [
    {
     "ename": "SyntaxError",
     "evalue": "invalid syntax (<ipython-input-41-db7c7432b5a2>, line 2)",
     "output_type": "error",
     "traceback": [
      "\u001b[1;36m  File \u001b[1;32m\"<ipython-input-41-db7c7432b5a2>\"\u001b[1;36m, line \u001b[1;32m2\u001b[0m\n\u001b[1;33m    for datavalue in reversed(a:)\u001b[0m\n\u001b[1;37m                               ^\u001b[0m\n\u001b[1;31mSyntaxError\u001b[0m\u001b[1;31m:\u001b[0m invalid syntax\n"
     ]
    }
   ],
   "source": [
    "a = 'korea'\n",
    "for datavalue in reversed(a:)\n",
    "    print(datavalue)"
   ]
  },
  {
   "cell_type": "markdown",
   "id": "plain-platinum",
   "metadata": {},
   "source": [
    "# while 반복 제어문"
   ]
  },
  {
   "cell_type": "markdown",
   "id": "horizontal-senior",
   "metadata": {},
   "source": [
    "## While문의 기본형식"
   ]
  },
  {
   "cell_type": "code",
   "execution_count": 46,
   "id": "hairy-acoustic",
   "metadata": {},
   "outputs": [
    {
     "name": "stdout",
     "output_type": "stream",
     "text": [
      "55\n"
     ]
    }
   ],
   "source": [
    "# while loop을 이용, 1부터 10까지의 숫자의 합계를 구하시오.\n",
    "number = 1\n",
    "sum = 0\n",
    "while number < 11 :\n",
    "    sum += number\n",
    "    number += 1\n",
    "print(sum)"
   ]
  },
  {
   "cell_type": "code",
   "execution_count": null,
   "id": "gross-madison",
   "metadata": {},
   "outputs": [],
   "source": [
    "# while loop을 이용, 1부터 10까지의 숫자의 합계를 구하시오.\n",
    "# 홀수의 합과 짝수의 합으로 구분하여 구하시오.\n",
    "number = 1\n",
    "oddsum = 0; evensum = 0\n",
    "while number < 11 :\n",
    "    if number % == 0:\n",
    "        evensum += number\n",
    "    else : \n",
    "        oddsum += number\n",
    "    number += 1  \n",
    "print(\"짝수의 합계 : "
   ]
  },
  {
   "cell_type": "code",
   "execution_count": null,
   "id": "ethical-confidence",
   "metadata": {},
   "outputs": [],
   "source": []
  },
  {
   "cell_type": "markdown",
   "id": "about-lexington",
   "metadata": {},
   "source": [
    "## 무한루프 while문"
   ]
  },
  {
   "cell_type": "code",
   "execution_count": null,
   "id": "interior-stevens",
   "metadata": {},
   "outputs": [],
   "source": []
  },
  {
   "cell_type": "markdown",
   "id": "worst-tomorrow",
   "metadata": {},
   "source": [
    "## break문"
   ]
  },
  {
   "cell_type": "code",
   "execution_count": null,
   "id": "blind-gallery",
   "metadata": {},
   "outputs": [],
   "source": []
  },
  {
   "cell_type": "markdown",
   "id": "meaning-postage",
   "metadata": {},
   "source": [
    "## continue문"
   ]
  },
  {
   "cell_type": "code",
   "execution_count": null,
   "id": "ahead-volunteer",
   "metadata": {},
   "outputs": [],
   "source": []
  },
  {
   "cell_type": "code",
   "execution_count": null,
   "id": "nuclear-championship",
   "metadata": {},
   "outputs": [],
   "source": []
  }
 ],
 "metadata": {
  "kernelspec": {
   "display_name": "Python 3",
   "language": "python",
   "name": "python3"
  },
  "language_info": {
   "codemirror_mode": {
    "name": "ipython",
    "version": 3
   },
   "file_extension": ".py",
   "mimetype": "text/x-python",
   "name": "python",
   "nbconvert_exporter": "python",
   "pygments_lexer": "ipython3",
   "version": "3.9.2"
  }
 },
 "nbformat": 4,
 "nbformat_minor": 5
}
