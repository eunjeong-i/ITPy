{
 "cells": [
  {
   "cell_type": "code",
   "execution_count": null,
   "id": "typical-regard",
   "metadata": {},
   "outputs": [],
   "source": []
  },
  {
   "cell_type": "code",
   "execution_count": null,
   "id": "pending-library",
   "metadata": {},
   "outputs": [],
   "source": []
  },
  {
   "cell_type": "markdown",
   "id": "sized-spectrum",
   "metadata": {},
   "source": [
    "# 파이썬 내장함수"
   ]
  },
  {
   "cell_type": "code",
   "execution_count": 1,
   "id": "every-stability",
   "metadata": {},
   "outputs": [],
   "source": [
    "## 내장함수"
   ]
  },
  {
   "cell_type": "code",
   "execution_count": null,
   "id": "bronze-architecture",
   "metadata": {},
   "outputs": [],
   "source": []
  },
  {
   "cell_type": "markdown",
   "id": "impaired-rally",
   "metadata": {},
   "source": [
    "# 객체지향 프로그래밍"
   ]
  },
  {
   "cell_type": "markdown",
   "id": "competent-argentina",
   "metadata": {},
   "source": [
    "## 클래스"
   ]
  },
  {
   "cell_type": "code",
   "execution_count": 23,
   "id": "swedish-diary",
   "metadata": {},
   "outputs": [
    {
     "ename": "SyntaxError",
     "evalue": "invalid syntax (<ipython-input-23-0d1b9dd0e126>, line 11)",
     "output_type": "error",
     "traceback": [
      "\u001b[1;36m  File \u001b[1;32m\"<ipython-input-23-0d1b9dd0e126>\"\u001b[1;36m, line \u001b[1;32m11\u001b[0m\n\u001b[1;33m    print(self.\"Hello\")\u001b[0m\n\u001b[1;37m               ^\u001b[0m\n\u001b[1;31mSyntaxError\u001b[0m\u001b[1;31m:\u001b[0m invalid syntax\n"
     ]
    }
   ],
   "source": [
    "# 클래스 - 객체를 표현하기 위한 문법\n",
    "# define class\n",
    "class person:  # class 클래스이름 : \n",
    "    # 속성리스트\n",
    "    def __init__(self) :\n",
    "        self.name = \"\"\n",
    "        self.age = 0\n",
    "        \n",
    "    # 메서드\n",
    "    def greeting(self):\n",
    "        print(self.\"Hello\")\n",
    "        \n",
    "    def showInfo(self):\n",
    "        print(self.name)\n",
    "        \n",
    "hong = Person()# 객체변수 = 클래스생성자()\n",
    "kim = person\n",
    "hong.name = \"홍길동\"\n",
    "hong.age = 19\n",
    "hong.greeting()\n",
    "hong.showInfo()"
   ]
  },
  {
   "cell_type": "code",
   "execution_count": 46,
   "id": "supposed-suspect",
   "metadata": {},
   "outputs": [],
   "source": [
    "class Car:  \n",
    "    # init() : 기본생성자       \n",
    "    # def __init__(self): (초기화코드입력)\n",
    "    def __init__(self, color=\"흰색\", speed=0) :\n",
    "        self.color = color\n",
    "        self.speed = speed\n",
    "    \n",
    "    def upSpeed(self, number):\n",
    "        self.speed = self.speed + number\n",
    "    def downSpeed(self, number):\n",
    "        self.speed -= number\n",
    "    def showInfo(self):\n",
    "        print(self.color, self.speed)"
   ]
  },
  {
   "cell_type": "code",
   "execution_count": 47,
   "id": "alternative-worse",
   "metadata": {},
   "outputs": [],
   "source": [
    "redCar = Car()"
   ]
  },
  {
   "cell_type": "code",
   "execution_count": 48,
   "id": "featured-clerk",
   "metadata": {},
   "outputs": [],
   "source": [
    "redCar.color = \"red\""
   ]
  },
  {
   "cell_type": "code",
   "execution_count": 49,
   "id": "reduced-space",
   "metadata": {},
   "outputs": [
    {
     "name": "stdout",
     "output_type": "stream",
     "text": [
      "red 0\n"
     ]
    }
   ],
   "source": [
    "redCar.showInfo()"
   ]
  },
  {
   "cell_type": "code",
   "execution_count": 58,
   "id": "known-conference",
   "metadata": {},
   "outputs": [
    {
     "ename": "AttributeError",
     "evalue": "'Car' object has no attribute 'Upspeed'",
     "output_type": "error",
     "traceback": [
      "\u001b[1;31m---------------------------------------------------------------------------\u001b[0m",
      "\u001b[1;31mAttributeError\u001b[0m                            Traceback (most recent call last)",
      "\u001b[1;32m<ipython-input-58-85b11fe88177>\u001b[0m in \u001b[0;36m<module>\u001b[1;34m\u001b[0m\n\u001b[1;32m----> 1\u001b[1;33m \u001b[0mredCar\u001b[0m\u001b[1;33m.\u001b[0m\u001b[0mUpspeed\u001b[0m\u001b[1;33m(\u001b[0m\u001b[1;33m)\u001b[0m\u001b[1;33m\u001b[0m\u001b[1;33m\u001b[0m\u001b[0m\n\u001b[0m\u001b[0;32m      2\u001b[0m \u001b[0mredCar\u001b[0m\u001b[1;33m.\u001b[0m\u001b[0mshowInfo\u001b[0m\u001b[1;33m(\u001b[0m\u001b[1;33m)\u001b[0m\u001b[1;33m\u001b[0m\u001b[1;33m\u001b[0m\u001b[0m\n",
      "\u001b[1;31mAttributeError\u001b[0m: 'Car' object has no attribute 'Upspeed'"
     ]
    }
   ],
   "source": [
    "redCar.Upspeed()\n",
    "redCar.showInfo()"
   ]
  },
  {
   "cell_type": "code",
   "execution_count": null,
   "id": "narrow-lewis",
   "metadata": {},
   "outputs": [],
   "source": []
  },
  {
   "cell_type": "code",
   "execution_count": 56,
   "id": "vertical-headset",
   "metadata": {},
   "outputs": [
    {
     "name": "stdout",
     "output_type": "stream",
     "text": [
      "흰색 0\n"
     ]
    },
    {
     "data": {
      "text/plain": [
       "True"
      ]
     },
     "execution_count": 56,
     "metadata": {},
     "output_type": "execute_result"
    }
   ],
   "source": [
    "car1 = Car()\n",
    "car1.showInfo()\n",
    "isinstance(car1,Car)"
   ]
  },
  {
   "cell_type": "code",
   "execution_count": 52,
   "id": "flush-windows",
   "metadata": {},
   "outputs": [
    {
     "name": "stdout",
     "output_type": "stream",
     "text": [
      "빨강 100\n"
     ]
    }
   ],
   "source": [
    "car2 = Car(\"빨강\", 100)\n",
    "car2.showInfo()"
   ]
  },
  {
   "cell_type": "code",
   "execution_count": 55,
   "id": "immediate-connection",
   "metadata": {},
   "outputs": [
    {
     "name": "stdout",
     "output_type": "stream",
     "text": [
      "파랑 0\n"
     ]
    }
   ],
   "source": [
    "car3 = Car(\"파랑\")\n",
    "car3.showInfo()"
   ]
  },
  {
   "cell_type": "code",
   "execution_count": 78,
   "id": "creative-mills",
   "metadata": {},
   "outputs": [],
   "source": [
    "class Person:\n",
    "    def __init__(self, name, age, address, wallet):\n",
    "        self.name = name\n",
    "        self.age = age\n",
    "        self.address = address\n",
    "        self.__wallet = wallet # 비공개속성\n",
    "    def updatewallet(self, money):\n",
    "        self.__wallet += money\n",
    "        self.__showWallet()\n",
    "        \n",
    "    def __showWallet(self):\n",
    "        print(self.__wallet)    \n",
    "        \n",
    "hong = Person(\"홍길동\", 19, \"청주시 상당구\", 10000)"
   ]
  },
  {
   "cell_type": "code",
   "execution_count": 82,
   "id": "pretty-reggae",
   "metadata": {},
   "outputs": [
    {
     "name": "stdout",
     "output_type": "stream",
     "text": [
      "9000\n"
     ]
    }
   ],
   "source": [
    "hong.updatewallet (-500) # 비공개 속성을 외부에서 액세스 하려는 시도"
   ]
  },
  {
   "cell_type": "code",
   "execution_count": 89,
   "id": "described-angola",
   "metadata": {},
   "outputs": [],
   "source": [
    "class Person:\n",
    "    # bag = []   # 공백 리스트, 클래스 속성 변수\n",
    "    def __init__(self):\n",
    "        self.bag = [] # 인스턴스 속성\n",
    "    \n",
    "    def put_bag(self, item):\n",
    "        self.bag.append(item)\n"
   ]
  },
  {
   "cell_type": "code",
   "execution_count": 90,
   "id": "analyzed-terry",
   "metadata": {},
   "outputs": [],
   "source": [
    "james = Person()\n",
    "james.put_bag('책')\n",
    "maria = Person()\n",
    "maria.put_bag('열쇠')"
   ]
  },
  {
   "cell_type": "code",
   "execution_count": 91,
   "id": "sought-country",
   "metadata": {},
   "outputs": [],
   "source": [
    "james.put_bag('노트북')"
   ]
  },
  {
   "cell_type": "code",
   "execution_count": 92,
   "id": "personalized-animal",
   "metadata": {},
   "outputs": [
    {
     "name": "stdout",
     "output_type": "stream",
     "text": [
      "['책', '노트북']\n"
     ]
    }
   ],
   "source": [
    "print(james.bag)"
   ]
  },
  {
   "cell_type": "code",
   "execution_count": 93,
   "id": "outer-northwest",
   "metadata": {},
   "outputs": [
    {
     "name": "stdout",
     "output_type": "stream",
     "text": [
      "['열쇠']\n"
     ]
    }
   ],
   "source": [
    "print(maria.bag)"
   ]
  },
  {
   "cell_type": "code",
   "execution_count": 111,
   "id": "level-engineering",
   "metadata": {},
   "outputs": [],
   "source": [
    "class Calc :\n",
    "    @staticmethod\n",
    "    def add(a, b):\n",
    "        print(a + b)\n",
    "    @staticmethod    \n",
    "    def mul(a, b):\n",
    "        print(a * b)    "
   ]
  },
  {
   "cell_type": "code",
   "execution_count": 113,
   "id": "general-shark",
   "metadata": {},
   "outputs": [
    {
     "name": "stdout",
     "output_type": "stream",
     "text": [
      "3\n"
     ]
    }
   ],
   "source": [
    "Calc.add(1,2)"
   ]
  },
  {
   "cell_type": "code",
   "execution_count": 126,
   "id": "signal-territory",
   "metadata": {},
   "outputs": [],
   "source": [
    "class Person :\n",
    "    count = 0   # class 속성 \n",
    "    def __init__(self):\n",
    "        Person.count += 1\n",
    "    @classmethod\n",
    "    def print_count(cls):\n",
    "        print('{0}명 생성되었습니다.'.format(cls.count))"
   ]
  },
  {
   "cell_type": "code",
   "execution_count": 132,
   "id": "planned-northern",
   "metadata": {},
   "outputs": [],
   "source": [
    "james = Person()"
   ]
  },
  {
   "cell_type": "code",
   "execution_count": 133,
   "id": "senior-armstrong",
   "metadata": {},
   "outputs": [
    {
     "name": "stdout",
     "output_type": "stream",
     "text": [
      "3명 생성되었습니다.\n"
     ]
    }
   ],
   "source": [
    "Person.print_count()"
   ]
  },
  {
   "cell_type": "code",
   "execution_count": null,
   "id": "international-punishment",
   "metadata": {},
   "outputs": [],
   "source": []
  },
  {
   "cell_type": "code",
   "execution_count": null,
   "id": "brutal-borough",
   "metadata": {},
   "outputs": [],
   "source": []
  },
  {
   "cell_type": "code",
   "execution_count": null,
   "id": "chubby-theater",
   "metadata": {},
   "outputs": [],
   "source": []
  }
 ],
 "metadata": {
  "kernelspec": {
   "display_name": "Python 3",
   "language": "python",
   "name": "python3"
  },
  "language_info": {
   "codemirror_mode": {
    "name": "ipython",
    "version": 3
   },
   "file_extension": ".py",
   "mimetype": "text/x-python",
   "name": "python",
   "nbconvert_exporter": "python",
   "pygments_lexer": "ipython3",
   "version": "3.9.2"
  }
 },
 "nbformat": 4,
 "nbformat_minor": 5
}
