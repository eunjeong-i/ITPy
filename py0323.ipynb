{
 "cells": [
  {
   "cell_type": "markdown",
   "id": "metallic-construction",
   "metadata": {},
   "source": [
    "# PY0323"
   ]
  },
  {
   "cell_type": "markdown",
   "id": "seeing-rotation",
   "metadata": {},
   "source": [
    "# 클래스 상속하기"
   ]
  },
  {
   "cell_type": "code",
   "execution_count": 1,
   "id": "honest-optics",
   "metadata": {},
   "outputs": [],
   "source": [
    "# class inheritance\n",
    "# class baseclass : \n",
    "#     # baseclass code\n",
    "\n",
    "# class subclase(baseclass) :\n",
    "#     # subclase code\n",
    "\n",
    "class Person:\n",
    "    def greeting(self):\n",
    "        print('안녕하세요')\n",
    "        \n",
    "class Student(Person):\n",
    "    def study(self):\n",
    "        print('공부하기')"
   ]
  },
  {
   "cell_type": "code",
   "execution_count": 2,
   "id": "aboriginal-macintosh",
   "metadata": {},
   "outputs": [
    {
     "name": "stdout",
     "output_type": "stream",
     "text": [
      "공부하기\n"
     ]
    }
   ],
   "source": [
    "hong = Student()\n",
    "hong.study()"
   ]
  },
  {
   "cell_type": "code",
   "execution_count": 21,
   "id": "crazy-oakland",
   "metadata": {},
   "outputs": [
    {
     "name": "stdout",
     "output_type": "stream",
     "text": [
      "안녕하세요\n"
     ]
    }
   ],
   "source": [
    "hong.greeting()"
   ]
  },
  {
   "cell_type": "code",
   "execution_count": 22,
   "id": "qualified-orientation",
   "metadata": {},
   "outputs": [
    {
     "data": {
      "text/plain": [
       "True"
      ]
     },
     "execution_count": 22,
     "metadata": {},
     "output_type": "execute_result"
    }
   ],
   "source": [
    "issubclass(Student, Person)"
   ]
  },
  {
   "cell_type": "code",
   "execution_count": 23,
   "id": "confident-austin",
   "metadata": {},
   "outputs": [
    {
     "data": {
      "text/plain": [
       "False"
      ]
     },
     "execution_count": 23,
     "metadata": {},
     "output_type": "execute_result"
    }
   ],
   "source": [
    "issubclass(Person, Student)"
   ]
  },
  {
   "cell_type": "code",
   "execution_count": 24,
   "id": "decreased-theorem",
   "metadata": {},
   "outputs": [],
   "source": [
    "class Polygon:\n",
    "    def __init__(self, no0fSides):\n",
    "        self.n = no0fSides\n",
    "        self.sides = [0 for i in range(no0fSides)]\n",
    "    def inputSides(self):\n",
    "        self.sides = [float(input(str(i+1) + \"번째 변의 길이\")) for i in range(self.n)]\n",
    "    def dispSides(self):\n",
    "        for i in fange(self.n):\n",
    "            print(i+1, \"번째 변 :\", self.sides[i])"
   ]
  },
  {
   "cell_type": "code",
   "execution_count": 64,
   "id": "alert-calvin",
   "metadata": {},
   "outputs": [],
   "source": [
    "class Triangle(Polygon):\n",
    "    def __init__(self):\n",
    "        Polygon.__init__(self, 3)\n",
    "        \n",
    "    def findArea (self):\n",
    "        a, b, c = self.sides\n",
    "        s = (a + b + c) / 2\n",
    "        area = (s*(s-a)*(s-b)*(s-c))**0.5\n",
    "        print(\"삼각형의 넓이 : %10.2f\"%area)"
   ]
  },
  {
   "cell_type": "code",
   "execution_count": 65,
   "id": "boxed-championship",
   "metadata": {},
   "outputs": [
    {
     "name": "stdout",
     "output_type": "stream",
     "text": [
      "1번째 변의 길이 3\n",
      "2번째 변의 길이 4\n",
      "3번째 변의 길이 5\n"
     ]
    }
   ],
   "source": [
    "t = Triangle()\n",
    "t.inputSides()"
   ]
  },
  {
   "cell_type": "code",
   "execution_count": 66,
   "id": "european-reducing",
   "metadata": {},
   "outputs": [
    {
     "name": "stdout",
     "output_type": "stream",
     "text": [
      "삼각형의 넓이 :       6.00\n"
     ]
    }
   ],
   "source": [
    "t.findArea()"
   ]
  },
  {
   "cell_type": "code",
   "execution_count": 62,
   "id": "starting-reduction",
   "metadata": {},
   "outputs": [],
   "source": [
    "class Person:\n",
    "    def __init__(self):\n",
    "        print(\"Person클래스읭 생성자\")\n",
    "        self.hello = \"안녕하세요\"\n",
    "        \n",
    "class Student(Person):\n",
    "    def __init__(self):\n",
    "       # super().__init__()\n",
    "        print(\"Student클래스의 생성자\")\n",
    "        self.school = \"한국아이티\"\n",
    "        "
   ]
  },
  {
   "cell_type": "code",
   "execution_count": 63,
   "id": "chemical-textbook",
   "metadata": {},
   "outputs": [
    {
     "name": "stdout",
     "output_type": "stream",
     "text": [
      "Student클래스의 생성자\n"
     ]
    }
   ],
   "source": [
    "hong = Student()"
   ]
  },
  {
   "cell_type": "code",
   "execution_count": 68,
   "id": "sexual-housing",
   "metadata": {},
   "outputs": [],
   "source": [
    "class Person:\n",
    "    def greeting(self):\n",
    "        print(\"안녕하세요\")\n",
    "        \n",
    "class Student(Person):\n",
    "    def greeting(self):\n",
    "        super().greeting()\n",
    "        print(\"건물을 세우고 싶어요.\")"
   ]
  },
  {
   "cell_type": "code",
   "execution_count": 69,
   "id": "nasty-limitation",
   "metadata": {},
   "outputs": [],
   "source": [
    "hong = Student()"
   ]
  },
  {
   "cell_type": "code",
   "execution_count": 72,
   "id": "binary-disclosure",
   "metadata": {},
   "outputs": [
    {
     "name": "stdout",
     "output_type": "stream",
     "text": [
      "건물을 세우고 싶어요.\n"
     ]
    }
   ],
   "source": [
    "hong.greeting()"
   ]
  },
  {
   "cell_type": "code",
   "execution_count": 90,
   "id": "incorporated-clarity",
   "metadata": {},
   "outputs": [
    {
     "ename": "NameError",
     "evalue": "name 'university' is not defined",
     "output_type": "error",
     "traceback": [
      "\u001b[1;31m---------------------------------------------------------------------------\u001b[0m",
      "\u001b[1;31mNameError\u001b[0m                                 Traceback (most recent call last)",
      "\u001b[1;32m<ipython-input-90-4faa1c74951d>\u001b[0m in \u001b[0;36m<module>\u001b[1;34m\u001b[0m\n\u001b[0;32m      7\u001b[0m         \u001b[0mprint\u001b[0m\u001b[1;33m(\u001b[0m\u001b[1;34m\"학점관리\"\u001b[0m\u001b[1;33m)\u001b[0m\u001b[1;33m\u001b[0m\u001b[1;33m\u001b[0m\u001b[0m\n\u001b[0;32m      8\u001b[0m \u001b[1;33m\u001b[0m\u001b[0m\n\u001b[1;32m----> 9\u001b[1;33m \u001b[1;32mclass\u001b[0m \u001b[0mUndergraduate\u001b[0m\u001b[1;33m(\u001b[0m\u001b[0mPerson\u001b[0m\u001b[1;33m,\u001b[0m \u001b[0muniversity\u001b[0m\u001b[1;33m)\u001b[0m\u001b[1;33m:\u001b[0m\u001b[1;33m\u001b[0m\u001b[1;33m\u001b[0m\u001b[0m\n\u001b[0m\u001b[0;32m     10\u001b[0m     \u001b[1;32mdef\u001b[0m \u001b[0mstudy\u001b[0m\u001b[1;33m(\u001b[0m\u001b[0mself\u001b[0m\u001b[1;33m)\u001b[0m\u001b[1;33m:\u001b[0m\u001b[1;33m\u001b[0m\u001b[1;33m\u001b[0m\u001b[0m\n\u001b[0;32m     11\u001b[0m         \u001b[0mprint\u001b[0m\u001b[1;33m(\u001b[0m\u001b[1;34m'공부하기'\u001b[0m\u001b[1;33m)\u001b[0m\u001b[1;33m\u001b[0m\u001b[1;33m\u001b[0m\u001b[0m\n",
      "\u001b[1;31mNameError\u001b[0m: name 'university' is not defined"
     ]
    }
   ],
   "source": [
    "class Person:\n",
    "    def greeting(self):\n",
    "        print(\"안녕하세요\")\n",
    "        \n",
    "class University:\n",
    "    def manage_credit(self):\n",
    "        print('학점관리')\n",
    "        \n",
    "class Undergraduate(Person, university):\n",
    "    def study(self):\n",
    "        print('공부하기')"
   ]
  },
  {
   "cell_type": "code",
   "execution_count": 80,
   "id": "disturbed-lodging",
   "metadata": {},
   "outputs": [
    {
     "ename": "NameError",
     "evalue": "name 'Undergraduate' is not defined",
     "output_type": "error",
     "traceback": [
      "\u001b[1;31m---------------------------------------------------------------------------\u001b[0m",
      "\u001b[1;31mNameError\u001b[0m                                 Traceback (most recent call last)",
      "\u001b[1;32m<ipython-input-80-a95974a568f9>\u001b[0m in \u001b[0;36m<module>\u001b[1;34m\u001b[0m\n\u001b[1;32m----> 1\u001b[1;33m \u001b[0mhong\u001b[0m \u001b[1;33m=\u001b[0m \u001b[0mUndergraduate\u001b[0m\u001b[1;33m(\u001b[0m\u001b[1;33m)\u001b[0m\u001b[1;33m\u001b[0m\u001b[1;33m\u001b[0m\u001b[0m\n\u001b[0m",
      "\u001b[1;31mNameError\u001b[0m: name 'Undergraduate' is not defined"
     ]
    }
   ],
   "source": [
    "hong = Undergraduate()"
   ]
  },
  {
   "cell_type": "code",
   "execution_count": 81,
   "id": "aware-imperial",
   "metadata": {},
   "outputs": [
    {
     "ename": "AttributeError",
     "evalue": "'Student' object has no attribute 'study'",
     "output_type": "error",
     "traceback": [
      "\u001b[1;31m---------------------------------------------------------------------------\u001b[0m",
      "\u001b[1;31mAttributeError\u001b[0m                            Traceback (most recent call last)",
      "\u001b[1;32m<ipython-input-81-9fac72c70dfb>\u001b[0m in \u001b[0;36m<module>\u001b[1;34m\u001b[0m\n\u001b[1;32m----> 1\u001b[1;33m \u001b[0mhong\u001b[0m\u001b[1;33m.\u001b[0m\u001b[0mstudy\u001b[0m\u001b[1;33m(\u001b[0m\u001b[1;33m)\u001b[0m\u001b[1;33m\u001b[0m\u001b[1;33m\u001b[0m\u001b[0m\n\u001b[0m\u001b[0;32m      2\u001b[0m \u001b[0mhong\u001b[0m\u001b[1;33m.\u001b[0m\u001b[0mgreeting\u001b[0m\u001b[1;33m(\u001b[0m\u001b[1;33m)\u001b[0m\u001b[1;33m\u001b[0m\u001b[1;33m\u001b[0m\u001b[0m\n\u001b[0;32m      3\u001b[0m \u001b[0mhong\u001b[0m\u001b[1;33m.\u001b[0m\u001b[0mmanage_credit\u001b[0m\u001b[1;33m(\u001b[0m\u001b[1;33m)\u001b[0m\u001b[1;33m\u001b[0m\u001b[1;33m\u001b[0m\u001b[0m\n",
      "\u001b[1;31mAttributeError\u001b[0m: 'Student' object has no attribute 'study'"
     ]
    }
   ],
   "source": [
    "hong.study()\n",
    "hong.greeting()\n",
    "hong.manage_credit()"
   ]
  },
  {
   "cell_type": "code",
   "execution_count": 82,
   "id": "labeled-pavilion",
   "metadata": {},
   "outputs": [
    {
     "data": {
      "text/plain": [
       "[int, object]"
      ]
     },
     "execution_count": 82,
     "metadata": {},
     "output_type": "execute_result"
    }
   ],
   "source": [
    "int.mro()"
   ]
  },
  {
   "cell_type": "code",
   "execution_count": 86,
   "id": "cooperative-trade",
   "metadata": {},
   "outputs": [],
   "source": [
    "from abc import *\n",
    "class StudentBase(metaclass=ABCMeta):\n",
    "    @abstractmethod\n",
    "    def study(self):    \n",
    "        pass"
   ]
  },
  {
   "cell_type": "code",
   "execution_count": 104,
   "id": "material-horizon",
   "metadata": {},
   "outputs": [],
   "source": [
    "class Student(StudentBase):\n",
    "    def study(self):\n",
    "        print(\"Student가 공부하기\")\n",
    "        \n",
    "    def gotoschool(self):\n",
    "        pass"
   ]
  },
  {
   "cell_type": "code",
   "execution_count": 100,
   "id": "noble-venue",
   "metadata": {},
   "outputs": [],
   "source": [
    "hong = Student()"
   ]
  },
  {
   "cell_type": "code",
   "execution_count": 102,
   "id": "cellular-calendar",
   "metadata": {},
   "outputs": [
    {
     "ename": "SyntaxError",
     "evalue": "invalid syntax (<ipython-input-102-e39e08c357d5>, line 1)",
     "output_type": "error",
     "traceback": [
      "\u001b[1;36m  File \u001b[1;32m\"<ipython-input-102-e39e08c357d5>\"\u001b[1;36m, line \u001b[1;32m1\u001b[0m\n\u001b[1;33m    class ElementaryStudent(Student)\u001b[0m\n\u001b[1;37m                                    ^\u001b[0m\n\u001b[1;31mSyntaxError\u001b[0m\u001b[1;31m:\u001b[0m invalid syntax\n"
     ]
    }
   ],
   "source": [
    "class ElementaryStudent(Student)\n",
    "    def go to school(self):\n",
    "        print(\"초등학생이 학교를 가요\")"
   ]
  },
  {
   "cell_type": "code",
   "execution_count": null,
   "id": "looking-brazilian",
   "metadata": {},
   "outputs": [],
   "source": []
  }
 ],
 "metadata": {
  "kernelspec": {
   "display_name": "Python 3",
   "language": "python",
   "name": "python3"
  },
  "language_info": {
   "codemirror_mode": {
    "name": "ipython",
    "version": 3
   },
   "file_extension": ".py",
   "mimetype": "text/x-python",
   "name": "python",
   "nbconvert_exporter": "python",
   "pygments_lexer": "ipython3",
   "version": "3.9.2"
  }
 },
 "nbformat": 4,
 "nbformat_minor": 5
}
