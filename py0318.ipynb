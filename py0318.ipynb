{
 "cells": [
  {
   "cell_type": "markdown",
   "id": "behind-ranch",
   "metadata": {},
   "source": [
    "### Function 의 정의\n",
    " 특정한 기능을 수행하는 연관된 코드들의 집합\n",
    " \n",
    "### 함수Function의 구문 Syntax\n",
    "'''python\n",
    "def functionName(paraneters):\n",
    "    statements\n",
    "    ....\n",
    "    return value\n",
    "''''\n",
    "### 함수Function의 사용(호출call)\n",
    "...\n",
    "functionName(paraneters)  # 리턴값이 없을 때, 단순한 함수 호출\n",
    "varlables = functionName(paraneters)  # 리턴값이 있을 때, 함수로 부터 값을 받아서 변수에 대입 \n",
    "..."
   ]
  },
  {
   "cell_type": "code",
   "execution_count": null,
   "id": "compact-consultancy",
   "metadata": {},
   "outputs": [],
   "source": []
  },
  {
   "cell_type": "code",
   "execution_count": 1,
   "id": "endangered-sunday",
   "metadata": {},
   "outputs": [],
   "source": [
    "def greet(name):\n",
    "    print(\"Hello, \" + name + \". Good morining\")"
   ]
  },
  {
   "cell_type": "code",
   "execution_count": 3,
   "id": "accessible-pound",
   "metadata": {},
   "outputs": [
    {
     "name": "stdout",
     "output_type": "stream",
     "text": [
      "Hello, 훈선님. Good morining\n"
     ]
    }
   ],
   "source": [
    "greet('훈선님')"
   ]
  },
  {
   "cell_type": "code",
   "execution_count": 4,
   "id": "early-croatia",
   "metadata": {},
   "outputs": [
    {
     "name": "stdout",
     "output_type": "stream",
     "text": [
      "Hello, 민선님. Good morining\n",
      "Hello, 정한님. Good morining\n"
     ]
    }
   ],
   "source": [
    "greet('민선님')\n",
    "greet('정한님')"
   ]
  },
  {
   "cell_type": "code",
   "execution_count": 10,
   "id": "impaired-excitement",
   "metadata": {},
   "outputs": [],
   "source": [
    "def greet(name, time=' 저녁 식사는 하셨어요?'):\n",
    "    print(\"Hello, \" + name + time)"
   ]
  },
  {
   "cell_type": "code",
   "execution_count": 11,
   "id": "otherwise-assistant",
   "metadata": {},
   "outputs": [
    {
     "name": "stdout",
     "output_type": "stream",
     "text": [
      "Hello, 민선님 저녁식사는 하셨어요?\n"
     ]
    }
   ],
   "source": [
    "greet('민선님', \" 저녁식사는 하셨어요?\")"
   ]
  },
  {
   "cell_type": "code",
   "execution_count": 8,
   "id": "thrown-relative",
   "metadata": {},
   "outputs": [
    {
     "name": "stdout",
     "output_type": "stream",
     "text": [
      "Hello, 훈선님 꽃이 활짝 폈습니다.\n"
     ]
    }
   ],
   "source": [
    "greet('훈선님', ' 꽃이 활짝 폈습니다.')"
   ]
  },
  {
   "cell_type": "code",
   "execution_count": 12,
   "id": "printable-abuse",
   "metadata": {},
   "outputs": [
    {
     "name": "stdout",
     "output_type": "stream",
     "text": [
      "Hello, 민선님 저녁 식사는 하셨어요?\n"
     ]
    }
   ],
   "source": [
    "greet('민선님')"
   ]
  },
  {
   "cell_type": "code",
   "execution_count": 13,
   "id": "southern-selection",
   "metadata": {},
   "outputs": [
    {
     "name": "stdout",
     "output_type": "stream",
     "text": [
      "30\n",
      "200\n"
     ]
    }
   ],
   "source": [
    "def functionAdd(num1, num2):\n",
    "    return num1 + num2, num1*num2\n",
    "\n",
    "r1, r2 = functionAdd(10, 20)\n",
    "print(r1)\n",
    "print(r2)"
   ]
  },
  {
   "cell_type": "code",
   "execution_count": 18,
   "id": "banned-dylan",
   "metadata": {},
   "outputs": [],
   "source": [
    "def abs_value(number):\n",
    "    if number >= 0 :\n",
    "        return number\n",
    "    else : \n",
    "        return -number"
   ]
  },
  {
   "cell_type": "code",
   "execution_count": 19,
   "id": "dirty-confidence",
   "metadata": {},
   "outputs": [
    {
     "data": {
      "text/plain": [
       "5"
      ]
     },
     "execution_count": 19,
     "metadata": {},
     "output_type": "execute_result"
    }
   ],
   "source": [
    "abs_value(-5)\n"
   ]
  },
  {
   "cell_type": "code",
   "execution_count": 24,
   "id": "dedicated-deadline",
   "metadata": {},
   "outputs": [
    {
     "name": "stdout",
     "output_type": "stream",
     "text": [
      "3\n",
      "1\n",
      "3\n",
      "1\n"
     ]
    }
   ],
   "source": [
    "# 두 수를 패러미터로 전달받아, 목과 나머지를 반환하는 함수를 선언하고,\n",
    "# 10과 3를 패러미터로 전달하여 실행을 확인해보세요.\n",
    "\n",
    "def getQuotientRemainder(num1, num2):\n",
    "    return num1 // num2, num1 % num2\n",
    "    \n",
    "q, r = getQuotientRemainder(10, 3)\n",
    "print(q)\n",
    "print(r)\n",
    "\n",
    "def functionAdd(num1, num2):\n",
    "    return num1 // num2, num1%num2\n",
    "\n",
    "r1, r2 = functionAdd(10, 3)\n",
    "print(r1)\n",
    "print(r2)"
   ]
  },
  {
   "cell_type": "markdown",
   "id": "interesting-serial",
   "metadata": {},
   "source": [
    "# 가변 매개변수의 사용"
   ]
  },
  {
   "cell_type": "code",
   "execution_count": 29,
   "id": "printable-classification",
   "metadata": {},
   "outputs": [
    {
     "name": "stdout",
     "output_type": "stream",
     "text": [
      "(1,)\n",
      "1\n",
      "(1, 2)\n",
      "3\n",
      "(1, 2, 3)\n",
      "6\n"
     ]
    }
   ],
   "source": [
    "# 매개 변수의 갯수가 정해져 있지 않은 것을 가변 매개변수라 한다.\n",
    "# 가변 매개변수를 사용하고자 할 때는 매개변수명 앞에 *를 추가하여 선언한다.\n",
    "# def 함수명(*매개변수명):\n",
    "# 실행코드...\n",
    "\n",
    "def varSum(*numbers):\n",
    "    print(numbers)\n",
    "    sum = 0\n",
    "    for number in numbers:\n",
    "        sum += number\n",
    "    return sum\n",
    "\n",
    "print(varSum(1))\n",
    "print(varSum(1,2))\n",
    "print(varSum(1,2,3))\n",
    "    "
   ]
  },
  {
   "cell_type": "code",
   "execution_count": 30,
   "id": "electoral-paragraph",
   "metadata": {},
   "outputs": [],
   "source": [
    "# 언패킹 사용하기\n"
   ]
  },
  {
   "cell_type": "code",
   "execution_count": 38,
   "id": "ignored-reunion",
   "metadata": {},
   "outputs": [
    {
     "name": "stdout",
     "output_type": "stream",
     "text": [
      "이름 :  19\n",
      "나이 :  홍길동\n",
      "주소 :  청주시 상당구\n",
      "이름 :  홍길동\n",
      "나이 :  19\n",
      "주소 :  청주시 상당구\n"
     ]
    }
   ],
   "source": [
    "# 키워드 인수 사용하기\n",
    "\n",
    "def personalinfo(name, age, address):\n",
    "    print('이름 : ', name)\n",
    "    print('나이 : ', age)\n",
    "    print('주소 : ', address)\n",
    "    \n",
    "personalinfo(19, '홍길동', '청주시 상당구')\n",
    "\n",
    "#  함수(키워드=인수값)\n",
    "personalinfo(age = 19, name = '홍길동', address = '청주시 상당구')"
   ]
  },
  {
   "cell_type": "markdown",
   "id": "alpine-processor",
   "metadata": {},
   "source": [
    "# 변수의 범위 "
   ]
  },
  {
   "cell_type": "code",
   "execution_count": null,
   "id": "aquatic-holiday",
   "metadata": {},
   "outputs": [],
   "source": []
  },
  {
   "cell_type": "code",
   "execution_count": 62,
   "id": "patient-waters",
   "metadata": {},
   "outputs": [
    {
     "name": "stdout",
     "output_type": "stream",
     "text": [
      "지역 변수\n",
      "전역 변수\n",
      "전역 변수\n"
     ]
    }
   ],
   "source": [
    "# local_variable = \"지역 변수\"\n",
    "\n",
    "def func():\n",
    "    global global_var\n",
    "    local_var = \"지역 변수\"\n",
    "    print(local_var)\n",
    "    print(global_var)\n",
    "    \n",
    "    \n",
    "# global_varable = \"전역 변수\"\n",
    "\n",
    "global_var = \"전역 변수\"\n",
    "func()\n",
    "print(global_var)"
   ]
  },
  {
   "cell_type": "code",
   "execution_count": 73,
   "id": "synthetic-music",
   "metadata": {},
   "outputs": [
    {
     "name": "stdout",
     "output_type": "stream",
     "text": [
      "한국아이티\n",
      "이성종\n",
      "한국아이티\n"
     ]
    }
   ],
   "source": [
    "# local_variable = \"지역 변수\" VS global_varable = \"전역 변수\"\n",
    "teacher='한국아이티'\n",
    "\n",
    "print(teacher)\n",
    "def R703():\n",
    "    teacher = '이성종'\n",
    "    print(teacher)\n",
    " \n",
    "R703()\n",
    "print(teacher)   "
   ]
  },
  {
   "cell_type": "code",
   "execution_count": 74,
   "id": "derived-albert",
   "metadata": {},
   "outputs": [
    {
     "name": "stdout",
     "output_type": "stream",
     "text": [
      "한국아이티\n",
      "이성종\n",
      "이성종\n"
     ]
    }
   ],
   "source": [
    "print(teacher)\n",
    "def R703():\n",
    "    global teacher\n",
    "    teacher = '이성종'\n",
    "    print(teacher)\n",
    " \n",
    "R703()\n",
    "print(teacher)"
   ]
  },
  {
   "cell_type": "markdown",
   "id": "sexual-colonial",
   "metadata": {},
   "source": [
    "## 클로저 사용하기"
   ]
  },
  {
   "cell_type": "code",
   "execution_count": null,
   "id": "guided-reynolds",
   "metadata": {},
   "outputs": [],
   "source": []
  },
  {
   "cell_type": "code",
   "execution_count": null,
   "id": "skilled-workstation",
   "metadata": {},
   "outputs": [],
   "source": []
  },
  {
   "cell_type": "markdown",
   "id": "atmospheric-lawrence",
   "metadata": {},
   "source": [
    "# 재귀호출 (factorial)"
   ]
  },
  {
   "cell_type": "code",
   "execution_count": 75,
   "id": "extra-saver",
   "metadata": {},
   "outputs": [],
   "source": [
    "# 재귀호출 (factorial)\n",
    "\n",
    "def factorial(number):\n",
    "    if number == 1:\n",
    "        return 1\n",
    "    else :\n",
    "        return number * factorial(number-1)    "
   ]
  },
  {
   "cell_type": "code",
   "execution_count": 76,
   "id": "drawn-extraction",
   "metadata": {},
   "outputs": [
    {
     "data": {
      "text/plain": [
       "6"
      ]
     },
     "execution_count": 76,
     "metadata": {},
     "output_type": "execute_result"
    }
   ],
   "source": [
    "factorial(3)"
   ]
  },
  {
   "cell_type": "code",
   "execution_count": 77,
   "id": "floral-porter",
   "metadata": {},
   "outputs": [],
   "source": [
    "def factorial(number):\n",
    "    if number == 1:\n",
    "        return 1\n",
    "    else :\n",
    "        return number * factorial(number-1)"
   ]
  },
  {
   "cell_type": "code",
   "execution_count": 78,
   "id": "variable-gamma",
   "metadata": {},
   "outputs": [
    {
     "data": {
      "text/plain": [
       "3628800"
      ]
     },
     "execution_count": 78,
     "metadata": {},
     "output_type": "execute_result"
    }
   ],
   "source": [
    "factorial(10)       "
   ]
  },
  {
   "cell_type": "code",
   "execution_count": 79,
   "id": "altered-symposium",
   "metadata": {},
   "outputs": [],
   "source": [
    "def factorial(number):\n",
    "    if number == 1:\n",
    "        return 1\n",
    "    else :\n",
    "        return number * factorial(number-1)"
   ]
  },
  {
   "cell_type": "code",
   "execution_count": 80,
   "id": "demonstrated-socket",
   "metadata": {},
   "outputs": [
    {
     "data": {
      "text/plain": [
       "93326215443944152681699238856266700490715968264381621468592963895217599993229915608941463976156518286253697920827223758251185210916864000000000000000000000000"
      ]
     },
     "execution_count": 80,
     "metadata": {},
     "output_type": "execute_result"
    }
   ],
   "source": [
    "factorial(100)"
   ]
  },
  {
   "cell_type": "markdown",
   "id": "after-freeze",
   "metadata": {},
   "source": [
    "# 람다 Lambda"
   ]
  },
  {
   "cell_type": "markdown",
   "id": "aggregate-execution",
   "metadata": {},
   "source": [
    "## lambda 매개변수리스트 : 매개변수이용표현식"
   ]
  },
  {
   "cell_type": "code",
   "execution_count": null,
   "id": "sonic-artist",
   "metadata": {},
   "outputs": [],
   "source": []
  },
  {
   "cell_type": "code",
   "execution_count": 81,
   "id": "offshore-characterization",
   "metadata": {},
   "outputs": [
    {
     "name": "stdout",
     "output_type": "stream",
     "text": [
      "3\n",
      "3\n"
     ]
    }
   ],
   "source": [
    "## 람다는 일반함수와 달리 이름을 가지지않으며,\n",
    "## 한 번밖에 사용할 수 없는 차이점을 갖는다.\n",
    "\n",
    "def add(a, b):\n",
    "    return a+b\n",
    "print(add(1,2))\n",
    "\n",
    "print((lambda a, b:a+b)(1,2))"
   ]
  },
  {
   "cell_type": "code",
   "execution_count": null,
   "id": "stopped-martin",
   "metadata": {},
   "outputs": [],
   "source": []
  },
  {
   "cell_type": "code",
   "execution_count": null,
   "id": "checked-crawford",
   "metadata": {},
   "outputs": [],
   "source": []
  },
  {
   "cell_type": "code",
   "execution_count": null,
   "id": "million-finger",
   "metadata": {},
   "outputs": [],
   "source": []
  },
  {
   "cell_type": "code",
   "execution_count": null,
   "id": "mighty-cornwall",
   "metadata": {},
   "outputs": [],
   "source": []
  },
  {
   "cell_type": "code",
   "execution_count": null,
   "id": "environmental-stranger",
   "metadata": {},
   "outputs": [],
   "source": []
  },
  {
   "cell_type": "code",
   "execution_count": null,
   "id": "competitive-curtis",
   "metadata": {},
   "outputs": [],
   "source": []
  }
 ],
 "metadata": {
  "kernelspec": {
   "display_name": "Python 3",
   "language": "python",
   "name": "python3"
  },
  "language_info": {
   "codemirror_mode": {
    "name": "ipython",
    "version": 3
   },
   "file_extension": ".py",
   "mimetype": "text/x-python",
   "name": "python",
   "nbconvert_exporter": "python",
   "pygments_lexer": "ipython3",
   "version": "3.9.2"
  }
 },
 "nbformat": 4,
 "nbformat_minor": 5
}
